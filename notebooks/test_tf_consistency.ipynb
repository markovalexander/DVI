{
 "cells": [
  {
   "cell_type": "markdown",
   "metadata": {},
   "source": [
    "# Deterministic Variational Inference: Toy example\n",
    "Code to accompany [**Fixing Variational Bayes: Deterministic Variational Inference for Bayesian Neural Networks**](https://arxiv.org/abs/1810.03958)"
   ]
  },
  {
   "cell_type": "code",
   "execution_count": 1,
   "metadata": {},
   "outputs": [
    {
     "name": "stdout",
     "output_type": "stream",
     "text": [
      "env: CUDA_VISIBLE_DEVICES=1\n"
     ]
    }
   ],
   "source": [
    "%env CUDA_VISIBLE_DEVICES = 1"
   ]
  },
  {
   "cell_type": "code",
   "execution_count": 2,
   "metadata": {},
   "outputs": [],
   "source": [
    "%matplotlib inline\n",
    "\n",
    "import numpy as np\n",
    "import tensorflow as tf\n",
    "import matplotlib.pyplot as plt\n",
    "from IPython.display import clear_output\n",
    "import os, json \n",
    "\n",
    "tf.enable_eager_execution()\n",
    "\n",
    "np.random.seed(3)"
   ]
  },
  {
   "cell_type": "code",
   "execution_count": null,
   "metadata": {},
   "outputs": [],
   "source": [
    "import gaussian_variables as gv\n",
    "import utils as u\n",
    "import plot_utils as pu\n",
    "import bayes_layers as bnn\n",
    "from bayes_models import MLP, PointMLP, AdaptedMLP\n",
    "import bayes_util as bu"
   ]
  },
  {
   "cell_type": "markdown",
   "metadata": {},
   "source": [
    "## Dataset\n",
    "\n",
    "First we generate a toy dataset according to:\n",
    "\n",
    "\\begin{equation}\n",
    "    y = -(x+0.5)\\sin(3\\pi x) + \\eta\n",
    "\\end{equation}\n",
    "\n",
    "Where the noise is generated according to:\n",
    "\n",
    "\\begin{equation}\n",
    "    \\eta = 0.45(x + 0.5)^2\n",
    "\\end{equation}"
   ]
  },
  {
   "cell_type": "code",
   "execution_count": 5,
   "metadata": {
    "scrolled": true
   },
   "outputs": [
    {
     "data": {
      "image/png": "[encoded data removed]",
      "text/plain": [
       "<Figure size 432x288 with 1 Axes>"
      ]
     },
     "metadata": {
      "needs_background": "light"
     },
     "output_type": "display_data"
    }
   ],
   "source": [
    "def base_model(x):\n",
    "    return -(x+0.5)*np.sin(3 * np.pi *x)\n",
    "\n",
    "def noise_model(x):\n",
    "    return 0.45*(x+0.5)**2\n",
    "\n",
    "def sample_data(x):\n",
    "    return base_model(x) + np.random.normal(0, noise_model(x))\n",
    "\n",
    "data_size = {'train': 500, 'valid': 100, 'test': 100}\n",
    "toy_data = []\n",
    "for section in ['train', 'valid', 'test']:\n",
    "    x = (np.random.rand(data_size['train'], 1) - 0.5)\n",
    "    toy_data.append([x, sample_data(x).reshape(-1)])    \n",
    "x = np.arange(-1,1,1/100)\n",
    "toy_data.append([[[_] for _ in x], base_model(x)])\n",
    "\n",
    "pu.toy_results_plot(toy_data, {'mean':base_model, 'std':noise_model})"
   ]
  },
  {
   "cell_type": "code",
   "execution_count": null,
   "metadata": {},
   "outputs": [],
   "source": [
    "import torch.nn as nn"
   ]
  },
  {
   "cell_type": "code",
   "execution_count": 10,
   "metadata": {},
   "outputs": [
    {
     "ename": "NameError",
     "evalue": "name 'nn' is not defined",
     "output_type": "error",
     "traceback": [
      "\u001b[0;31m---------------------------------------------------------------------------\u001b[0m",
      "\u001b[0;31mNameError\u001b[0m                                 Traceback (most recent call last)",
      "\u001b[0;32m<ipython-input-10-bc05facdfe51>\u001b[0m in \u001b[0;36m<module>\u001b[0;34m()\u001b[0m\n\u001b[1;32m      1\u001b[0m \u001b[0;34m\u001b[0m\u001b[0m\n\u001b[0;32m----> 2\u001b[0;31m \u001b[0;32mclass\u001b[0m \u001b[0mLinearGaussian\u001b[0m\u001b[0;34m(\u001b[0m\u001b[0mnn\u001b[0m\u001b[0;34m.\u001b[0m\u001b[0mModule\u001b[0m\u001b[0;34m)\u001b[0m\u001b[0;34m:\u001b[0m\u001b[0;34m\u001b[0m\u001b[0m\n\u001b[0m\u001b[1;32m      3\u001b[0m     def __init__(self, in_features, out_features, certain=False,\n\u001b[1;32m      4\u001b[0m                  prior=\"DiagonalGaussian\"):\n\u001b[1;32m      5\u001b[0m         \"\"\"\n",
      "\u001b[0;31mNameError\u001b[0m: name 'nn' is not defined"
     ]
    }
   ],
   "source": [
    "\n",
    "class LinearGaussian(nn.Module):\n",
    "    def __init__(self, in_features, out_features, certain=False,\n",
    "                 prior=\"DiagonalGaussian\"):\n",
    "        \"\"\"\n",
    "        Applies linear transformation y = xA^T + b\n",
    "        A and b are Gaussian random variables\n",
    "        :param in_features: input dimension\n",
    "        :param out_features: output dimension\n",
    "        :param certain:  if false, than x is equal to its mean and has no variance\n",
    "        :param prior:  prior type\n",
    "        \"\"\"\n",
    "\n",
    "        super().__init__()\n",
    "\n",
    "        self.A_mean = nn.Parameter(torch.Tensor(in_features, out_features))\n",
    "        self.b_mean = nn.Parameter(torch.Tensor(out_features))\n",
    "        self.certain = certain\n",
    "\n",
    "        self.A_logvar = nn.Parameter(torch.Tensor(in_features, out_features))\n",
    "        self.b_logvar = nn.Parameter(torch.Tensor(out_features))\n",
    "\n",
    "        self.prior = prior\n",
    "        self.initialize_weights()\n",
    "        self.construct_priors(self.prior)\n",
    "        self.use_dvi = True\n",
    "\n",
    "    def initialize_weights(self):\n",
    "        nn.init.xavier_normal_(self.A_mean)\n",
    "        nn.init.normal_(self.b_mean)\n",
    "\n",
    "        nn.init.xavier_normal_(self.A_logvar)\n",
    "        nn.init.normal_(self.b_logvar)\n",
    "\n",
    "    def construct_priors(self, prior):\n",
    "        if prior == \"DiagonalGaussian\":\n",
    "            s1 = s2 = 0.1\n",
    "\n",
    "            self._prior_A = {\n",
    "                'mean': torch.zeros_like(self.A_mean, requires_grad=False).to(2),\n",
    "                'var': torch.ones_like(self.A_logvar, requires_grad=False).to(2) * s2}\n",
    "            self._prior_b = {\n",
    "                'mean': torch.zeros_like(self.b_mean, requires_grad=False).to(2),\n",
    "                'var': torch.ones_like(self.b_logvar, requires_grad=False).to(2) * s1}\n",
    "        else:\n",
    "            raise NotImplementedError(\"{} prior is not supported\".format(prior))\n",
    "\n",
    "    def compute_kl(self):\n",
    "        if self.prior == 'DiagonalGaussian':\n",
    "            kl_A = KL_GG(self.A_mean, torch.exp(self.A_logvar),\n",
    "                         self._prior_A['mean'].to(self.A_mean.device),\n",
    "                         self._prior_A['var'].to(self.A_mean.device))\n",
    "            kl_b = KL_GG(self.b_mean, torch.exp(self.b_logvar),\n",
    "                         self._prior_b['mean'].to(self.A_mean.device),\n",
    "                         self._prior_b['var'].to(self.A_mean.device))\n",
    "        return kl_A + kl_b\n",
    "\n",
    "    def determenistic(self, mode=True):\n",
    "        self.use_dvi = True\n",
    "\n",
    "    def mcvi(self, mode=True):\n",
    "        self.use_dvi = not mode\n",
    "\n",
    "    def get_mode(self):\n",
    "        if self.use_dvi:\n",
    "            print('In determenistic mode')\n",
    "        else:\n",
    "            print('In MCVI mode')\n",
    "\n",
    "    def forward(self, x):\n",
    "        \"\"\"\n",
    "        Compute expectation and variance after linear transform\n",
    "        y = xA^T + b\n",
    "        :param x: input, size [batch, in_features]\n",
    "        :return: tuple (y_mean, y_var) for determenistic mode:,  shapes:\n",
    "                 y_mean: [batch, out_features]\n",
    "                 y_var:  [batch, out_features, out_features]\n",
    "                 tuple (sample, None) for MCVI mode,\n",
    "                 sample : [batch, out_features] - local reparametrization of output\n",
    "        \"\"\"\n",
    "        A_var = torch.exp(self.A_logvar)\n",
    "        b_var = torch.exp(self.b_logvar)\n",
    "        if self.use_dvi:\n",
    "            return self._det_forward(x, A_var, b_var)\n",
    "        else:\n",
    "            return self._mcvi_forward(x, A_var, b_var)\n",
    "\n",
    "    def _mcvi_forward(self, x, A_var, b_var):\n",
    "        if self.certain:\n",
    "            x_mean = x\n",
    "            x_var = None\n",
    "        else:\n",
    "            x_mean = x[0]\n",
    "            x_var = x[1]\n",
    "\n",
    "        y_mean = F.linear(x_mean, self.A_mean.t()) + self.b_mean\n",
    "\n",
    "        if self.certain or not self.use_dvi:\n",
    "            xx = x_mean * x_mean\n",
    "            y_var = torch.diag_embed(F.linear(xx, A_var.t()) + b_var)\n",
    "        else:\n",
    "            y_var = self.compute_var(x_mean, x_var)\n",
    "\n",
    "        dst = MultivariateNormal(loc=y_mean, covariance_matrix=y_var)\n",
    "        sample = dst.rsample()\n",
    "        return sample, None\n",
    "\n",
    "    def _det_forward(self, x, A_var, b_var):\n",
    "        \"\"\"\n",
    "        Compute expectation and variance after linear transform\n",
    "        y = xA^T + b\n",
    "        :param x: input, size [batch, in_features]\n",
    "        :return: tuple (y_mean, y_var),  shapes:\n",
    "                 y_mean: [batch, out_features]\n",
    "                 y_var:  [batch, out_features, out_features]\n",
    "        \"\"\"\n",
    "\n",
    "        if self.certain:\n",
    "            x_mean = x\n",
    "            x_var = None\n",
    "        else:\n",
    "            x_mean = x[0]\n",
    "            x_var = x[1]\n",
    "\n",
    "        y_mean = F.linear(x_mean, self.A_mean.t()) + self.b_mean\n",
    "\n",
    "        if self.certain:\n",
    "            xx = x_mean * x_mean\n",
    "            y_var = torch.diag_embed(F.linear(xx, A_var.t()) + b_var)\n",
    "        else:\n",
    "            y_var = self.compute_var(x_mean, x_var)\n",
    "\n",
    "        return y_mean, y_var\n",
    "\n",
    "    def compute_var(self, x_mean, x_var):\n",
    "        A_var = torch.exp(self.A_logvar)\n",
    "\n",
    "        x_var_diag = matrix_diag_part(x_var)\n",
    "        xx_mean = x_var_diag + x_mean * x_mean\n",
    "\n",
    "        term1_diag = torch.matmul(xx_mean, A_var)\n",
    "\n",
    "        flat_xCov = torch.reshape(x_var, (-1, self.A_mean.size(0)))  # [b*x, x]\n",
    "        xCov_A = torch.matmul(flat_xCov, self.A_mean)  # [b * x, y]\n",
    "        xCov_A = torch.reshape(xCov_A, (\n",
    "            -1, self.A_mean.size(0), self.A_mean.size(1)))  # [b, x, y]\n",
    "        xCov_A = torch.transpose(xCov_A, 1, 2)  # [b, y, x]\n",
    "        xCov_A = torch.reshape(xCov_A, (-1, self.A_mean.size(0)))  # [b*y, x]\n",
    "\n",
    "        A_xCov_A = torch.matmul(xCov_A, self.A_mean)  # [b*y, y]\n",
    "        A_xCov_A = torch.reshape(A_xCov_A, (\n",
    "            -1, self.A_mean.size(1), self.A_mean.size(1)))  # [b, y, y]\n",
    "\n",
    "        term2 = A_xCov_A\n",
    "        term2_diag = matrix_diag_part(term2)\n",
    "\n",
    "        _, n, _ = term2.size()\n",
    "        idx = torch.arange(0, n)\n",
    "\n",
    "        term3_diag = torch.exp(self.b_logvar)\n",
    "        result_diag = term1_diag + term2_diag + term3_diag\n",
    "\n",
    "        result = term2\n",
    "        result[:, idx, idx] = result_diag\n",
    "        return result\n"
   ]
  },
  {
   "cell_type": "markdown",
   "metadata": {},
   "source": [
    "### Сheck LinearCertain"
   ]
  },
  {
   "cell_type": "code",
   "execution_count": 5,
   "metadata": {},
   "outputs": [],
   "source": [
    "torch_model = LinearGaussian(1, 3, certain=True)\n",
    "torch_loss = RegressionLoss(torch_model, use_heteroskedastic=False, homo_log_var_scale=1)"
   ]
  },
  {
   "cell_type": "code",
   "execution_count": 6,
   "metadata": {},
   "outputs": [],
   "source": [
    "A_mean = torch_model.A_mean.detach().numpy()\n",
    "\n",
    "A_var = torch_model.A_var.detach().numpy()\n",
    "\n",
    "b_mean = torch_model.b_mean.detach().numpy()\n",
    "b_var = torch_model.b_var.detach().numpy()\n",
    "\n",
    "class param():\n",
    "    def __init__(self, mean, var):\n",
    "        self.mean = mean\n",
    "        self.var = var\n",
    "\n",
    "A = param(A_mean, A_var)\n",
    "b = param(b_mean, b_var)"
   ]
  },
  {
   "cell_type": "code",
   "execution_count": 7,
   "metadata": {},
   "outputs": [],
   "source": [
    "xx = torch.FloatTensor(toy_data[0][0])"
   ]
  },
  {
   "cell_type": "code",
   "execution_count": 8,
   "metadata": {},
   "outputs": [],
   "source": [
    "torch_mean, torch_var = torch_model(xx)"
   ]
  },
  {
   "cell_type": "markdown",
   "metadata": {},
   "source": [
    "now tf:"
   ]
  },
  {
   "cell_type": "code",
   "execution_count": 9,
   "metadata": {},
   "outputs": [],
   "source": [
    "def linear_certain_activations(x_certain, A, b):\n",
    "    \"\"\"\n",
    "    compute y = x^T A + b\n",
    "    assuming x has zero variance\n",
    "    \"\"\"\n",
    "    x_mean = x_certain\n",
    "    xx = x_mean*x_mean\n",
    "    y_mean = tf.matmul(x_mean, A.mean) + b.mean\n",
    "    y_cov = tf.matrix_diag(tf.matmul(xx, A.var) + b.var)\n",
    "    return y_mean, y_cov\n"
   ]
  },
  {
   "cell_type": "code",
   "execution_count": 10,
   "metadata": {},
   "outputs": [],
   "source": [
    "x  = toy_data[0][0].astype('float32')"
   ]
  },
  {
   "cell_type": "code",
   "execution_count": 11,
   "metadata": {},
   "outputs": [],
   "source": [
    "tf_mean, tf_var = linear_certain_activations(x, A, b)"
   ]
  },
  {
   "cell_type": "code",
   "execution_count": 12,
   "metadata": {},
   "outputs": [
    {
     "data": {
      "text/plain": [
       "<tf.Tensor: id=15, shape=(500, 3), dtype=float32, numpy=\n",
       "array([[ 0.91329587,  0.79197353,  0.28668857],\n",
       "       [ 0.9980265 ,  0.80330646,  0.39054853],\n",
       "       [ 0.77334714,  0.77325505,  0.11514421],\n",
       "       ...,\n",
       "       [ 0.96634424,  0.7990689 ,  0.35171345],\n",
       "       [ 0.65956944,  0.758037  , -0.0243206 ],\n",
       "       [ 1.0682223 ,  0.8126954 ,  0.4765921 ]], dtype=float32)>"
      ]
     },
     "execution_count": 12,
     "metadata": {},
     "output_type": "execute_result"
    }
   ],
   "source": [
    "tf_mean"
   ]
  },
  {
   "cell_type": "code",
   "execution_count": 13,
   "metadata": {},
   "outputs": [
    {
     "data": {
      "text/plain": [
       "tensor([[ 0.9133,  0.7920,  0.2867],\n",
       "        [ 0.9980,  0.8033,  0.3905],\n",
       "        [ 0.7733,  0.7733,  0.1151],\n",
       "        ...,\n",
       "        [ 0.9663,  0.7991,  0.3517],\n",
       "        [ 0.6596,  0.7580, -0.0243],\n",
       "        [ 1.0682,  0.8127,  0.4766]], grad_fn=<AddBackward0>)"
      ]
     },
     "execution_count": 13,
     "metadata": {},
     "output_type": "execute_result"
    }
   ],
   "source": [
    "torch_mean"
   ]
  },
  {
   "cell_type": "code",
   "execution_count": 14,
   "metadata": {},
   "outputs": [
    {
     "data": {
      "text/plain": [
       "<tf.Tensor: id=21, shape=(500, 3, 3), dtype=float32, numpy=\n",
       "array([[[5.8536243, 0.       , 0.       ],\n",
       "        [0.       , 6.416935 , 0.       ],\n",
       "        [0.       , 0.       , 4.5336475]],\n",
       "\n",
       "       [[6.17735  , 0.       , 0.       ],\n",
       "        [0.       , 6.4694743, 0.       ],\n",
       "        [0.       , 0.       , 4.832366 ]],\n",
       "\n",
       "       [[6.180491 , 0.       , 0.       ],\n",
       "        [0.       , 6.469984 , 0.       ],\n",
       "        [0.       , 0.       , 4.835264 ]],\n",
       "\n",
       "       ...,\n",
       "\n",
       "       [[6.010252 , 0.       , 0.       ],\n",
       "        [0.       , 6.442355 , 0.       ],\n",
       "        [0.       , 0.       , 4.678176 ]],\n",
       "\n",
       "       [[7.237233 , 0.       , 0.       ],\n",
       "        [0.       , 6.641489 , 0.       ],\n",
       "        [0.       , 0.       , 5.8103747]],\n",
       "\n",
       "       [[6.743526 , 0.       , 0.       ],\n",
       "        [0.       , 6.5613623, 0.       ],\n",
       "        [0.       , 0.       , 5.3548055]]], dtype=float32)>"
      ]
     },
     "execution_count": 14,
     "metadata": {},
     "output_type": "execute_result"
    }
   ],
   "source": [
    "tf_var"
   ]
  },
  {
   "cell_type": "code",
   "execution_count": 15,
   "metadata": {},
   "outputs": [
    {
     "data": {
      "text/plain": [
       "tensor([[[5.8536, 0.0000, 0.0000],\n",
       "         [0.0000, 6.4169, 0.0000],\n",
       "         [0.0000, 0.0000, 4.5336]],\n",
       "\n",
       "        [[6.1774, 0.0000, 0.0000],\n",
       "         [0.0000, 6.4695, 0.0000],\n",
       "         [0.0000, 0.0000, 4.8324]],\n",
       "\n",
       "        [[6.1805, 0.0000, 0.0000],\n",
       "         [0.0000, 6.4700, 0.0000],\n",
       "         [0.0000, 0.0000, 4.8353]],\n",
       "\n",
       "        ...,\n",
       "\n",
       "        [[6.0103, 0.0000, 0.0000],\n",
       "         [0.0000, 6.4424, 0.0000],\n",
       "         [0.0000, 0.0000, 4.6782]],\n",
       "\n",
       "        [[7.2372, 0.0000, 0.0000],\n",
       "         [0.0000, 6.6415, 0.0000],\n",
       "         [0.0000, 0.0000, 5.8104]],\n",
       "\n",
       "        [[6.7435, 0.0000, 0.0000],\n",
       "         [0.0000, 6.5614, 0.0000],\n",
       "         [0.0000, 0.0000, 5.3548]]], grad_fn=<CopySlices>)"
      ]
     },
     "execution_count": 15,
     "metadata": {},
     "output_type": "execute_result"
    }
   ],
   "source": [
    "torch_var"
   ]
  },
  {
   "cell_type": "markdown",
   "metadata": {},
   "source": [
    "### Now check Linear"
   ]
  },
  {
   "cell_type": "code",
   "execution_count": 101,
   "metadata": {},
   "outputs": [],
   "source": [
    "rreg = LinearGaussian(3, 2)"
   ]
  },
  {
   "cell_type": "code",
   "execution_count": 102,
   "metadata": {},
   "outputs": [],
   "source": [
    "A_mean = rreg.A_mean.detach().numpy()\n",
    "A_var = rreg.A_var.detach().numpy()\n",
    "\n",
    "b_mean = rreg.b_mean.detach().numpy()\n",
    "b_var = rreg.b_var.detach().numpy()\n",
    "\n",
    "class param():\n",
    "    def __init__(self, mean, var):\n",
    "        self.mean = mean\n",
    "        self.var = var\n",
    "        self.shape = mean.shape\n",
    "\n",
    "A = param(A_mean, A_var)\n",
    "b = param(b_mean, b_var)"
   ]
  },
  {
   "cell_type": "code",
   "execution_count": 103,
   "metadata": {},
   "outputs": [],
   "source": [
    "xx = (torch_mean, torch_var)"
   ]
  },
  {
   "cell_type": "code",
   "execution_count": 104,
   "metadata": {},
   "outputs": [],
   "source": [
    "xx_tf = (torch_mean.detach().numpy(), torch_var.detach().numpy())"
   ]
  },
  {
   "cell_type": "code",
   "execution_count": 105,
   "metadata": {},
   "outputs": [],
   "source": [
    "torch_mean_1, torch_var_1 = rreg(xx)"
   ]
  },
  {
   "cell_type": "code",
   "execution_count": 106,
   "metadata": {},
   "outputs": [],
   "source": [
    "def linear_covariance(x_mean, x_cov, A, b):\n",
    "    x_var_diag = tf.matrix_diag_part(x_cov)\n",
    "    xx_mean = x_var_diag + x_mean * x_mean\n",
    "    \n",
    "    term1_diag = tf.matmul(xx_mean, A.var)\n",
    "    \n",
    "    flat_xCov = tf.reshape(x_cov, [-1, A.shape[0]]) # [b*x, x]\n",
    "    xCov_A = tf.matmul(flat_xCov, A.mean) # [b*x, y]\n",
    "    xCov_A = tf.reshape(xCov_A, [-1, A.shape[0], A.shape[1]]) # [b, x, y]\n",
    "    xCov_A = tf.transpose(xCov_A, [0, 2, 1]) # [b, y, x]\n",
    "    xCov_A = tf.reshape(xCov_A, [-1, A.shape[0]]) # [b*y, x]\n",
    "    A_xCov_A = tf.matmul(xCov_A, A.mean) # [b*y, y]\n",
    "    A_xCov_A = tf.reshape(A_xCov_A, [-1, A.shape[1], A.shape[1]]) # [b, y, y]\n",
    "\n",
    "    term2 = A_xCov_A\n",
    "    term2_diag = tf.matrix_diag_part(term2)\n",
    "    \n",
    "    term3_diag = b.var\n",
    "    \n",
    "    result_diag = term1_diag + term2_diag + term3_diag\n",
    "    return tf.matrix_set_diag(term2, result_diag)      \n",
    "\n",
    "\n",
    "def linear(x, A, b):\n",
    "    \"\"\"\n",
    "    compute y = x^T A + b\n",
    "    \"\"\"\n",
    "    x_mean = x.mean\n",
    "    y_mean = tf.matmul(x_mean, A.mean) + b.mean\n",
    "    x_cov = x.var\n",
    "    y_cov = linear_covariance(x_mean, x_cov, A, b)\n",
    "    return y_mean, y_cov"
   ]
  },
  {
   "cell_type": "code",
   "execution_count": 107,
   "metadata": {},
   "outputs": [
    {
     "name": "stdout",
     "output_type": "stream",
     "text": [
      "(500, 2, 2)\n"
     ]
    }
   ],
   "source": [
    "tf_mean_1, tf_var_1 = linear(param(xx_tf[0], xx_tf[1]), A, b)"
   ]
  },
  {
   "cell_type": "code",
   "execution_count": 108,
   "metadata": {},
   "outputs": [
    {
     "data": {
      "text/plain": [
       "tensor([[1.2008, 0.9447],\n",
       "        [1.2895, 1.0223],\n",
       "        [1.0544, 0.8165],\n",
       "        [1.1783, 0.9250],\n",
       "        [1.3936, 1.1135],\n",
       "        [1.3955, 1.1151],\n",
       "        [0.9612, 0.7349],\n",
       "        [1.0073, 0.7752],\n",
       "        [0.9195, 0.6984],\n",
       "        [1.1389, 0.8904]], grad_fn=<SliceBackward>)"
      ]
     },
     "execution_count": 108,
     "metadata": {},
     "output_type": "execute_result"
    }
   ],
   "source": [
    "torch_mean_1[:10]"
   ]
  },
  {
   "cell_type": "code",
   "execution_count": 109,
   "metadata": {},
   "outputs": [
    {
     "data": {
      "text/plain": [
       "<tf.Tensor: id=337, shape=(10, 2), dtype=float32, numpy=\n",
       "array([[1.2008369 , 0.9447069 ],\n",
       "       [1.2894974 , 1.0223311 ],\n",
       "       [1.0543975 , 0.8164957 ],\n",
       "       [1.1783154 , 0.9249886 ],\n",
       "       [1.3936245 , 1.1134968 ],\n",
       "       [1.39551   , 1.1151475 ],\n",
       "       [0.96124655, 0.73493993],\n",
       "       [1.0072572 , 0.77522343],\n",
       "       [0.9194839 , 0.6983758 ],\n",
       "       [1.1388631 , 0.8904473 ]], dtype=float32)>"
      ]
     },
     "execution_count": 109,
     "metadata": {},
     "output_type": "execute_result"
    }
   ],
   "source": [
    "tf_mean_1[:10]"
   ]
  },
  {
   "cell_type": "code",
   "execution_count": 110,
   "metadata": {},
   "outputs": [
    {
     "data": {
      "text/plain": [
       "tensor([[[39.2456,  2.9597],\n",
       "         [ 2.9597, 32.7805]],\n",
       "\n",
       "        [[40.9367,  3.0715],\n",
       "         [ 3.0715, 34.0926]],\n",
       "\n",
       "        [[40.1750,  3.0726],\n",
       "         [ 3.0726, 33.2175]]], grad_fn=<SliceBackward>)"
      ]
     },
     "execution_count": 110,
     "metadata": {},
     "output_type": "execute_result"
    }
   ],
   "source": [
    "torch_var_1[:3]"
   ]
  },
  {
   "cell_type": "code",
   "execution_count": 111,
   "metadata": {},
   "outputs": [
    {
     "data": {
      "text/plain": [
       "<tf.Tensor: id=342, shape=(3, 2, 2), dtype=float32, numpy=\n",
       "array([[[39.245625 ,  2.959738 ],\n",
       "        [ 2.959738 , 32.78047  ]],\n",
       "\n",
       "       [[40.936665 ,  3.0714676],\n",
       "        [ 3.0714676, 34.0926   ]],\n",
       "\n",
       "       [[40.17499  ,  3.0725517],\n",
       "        [ 3.0725517, 33.21749  ]]], dtype=float32)>"
      ]
     },
     "execution_count": 111,
     "metadata": {},
     "output_type": "execute_result"
    }
   ],
   "source": [
    "tf_var_1[:3]"
   ]
  },
  {
   "cell_type": "markdown",
   "metadata": {},
   "source": [
    "# Check Regression Loss"
   ]
  },
  {
   "cell_type": "markdown",
   "metadata": {},
   "source": [
    "### torch"
   ]
  },
  {
   "cell_type": "code",
   "execution_count": 982,
   "metadata": {},
   "outputs": [],
   "source": [
    "import torch\n",
    "import torch.nn as nn\n",
    "import torch.nn.functional as F\n",
    "\n",
    "\n",
    "EPS = 1e-8\n",
    "\n",
    "\n",
    "def matrix_diag_part(tensor):\n",
    "    return torch.stack(tuple(t.diag() for t in torch.unbind(tensor, 0)))\n",
    "\n",
    "\n",
    "class LinearGaussian(nn.Module):\n",
    "    def __init__(self, in_features, out_features, certain=False,\n",
    "                 prior=\"DiagonalGaussian\"):\n",
    "        \"\"\"\n",
    "        Applies linear transformation y = xA^T + b\n",
    "\n",
    "        A and b are Gaussian random variables\n",
    "\n",
    "        :param in_features: input dimension\n",
    "        :param out_features: output dimension\n",
    "        :param certain:  if false, than x is equal to its mean and has no variance\n",
    "        :param prior:  prior type\n",
    "        \"\"\"\n",
    "\n",
    "        super().__init__()\n",
    "\n",
    "        self.A_mean = nn.Parameter(torch.Tensor(in_features, out_features))\n",
    "        self.b_mean = nn.Parameter(torch.Tensor(out_features))\n",
    "        self.certain = certain\n",
    "\n",
    "        self.A_var = nn.Parameter(torch.Tensor(in_features, out_features))\n",
    "        self.b_var = nn.Parameter(torch.Tensor(out_features))\n",
    "\n",
    "        self.prior = prior\n",
    "        self.initialize_weights()\n",
    "        self.construct_priors(self.prior)\n",
    "\n",
    "    def initialize_weights(self):\n",
    "        nn.init.zeros_(self.A_mean)\n",
    "        nn.init.zeros_(self.b_mean)\n",
    "\n",
    "        shape = self.b_var.size(0)\n",
    "        s = shape * shape\n",
    "\n",
    "        nn.init.uniform_(self.A_var, a=0, b=s)\n",
    "        nn.init.uniform_(self.b_var, a=0, b=s)\n",
    "\n",
    "    def construct_priors(self, prior):\n",
    "        if prior == \"DiagonalGaussian\":\n",
    "            s1 = 1\n",
    "            s2 = 1\n",
    "\n",
    "            self._prior_A = {\n",
    "                'mean': torch.zeros_like(self.A_mean, requires_grad=False),\n",
    "                'var': torch.ones_like(self.A_var, requires_grad=False) * s2}\n",
    "            self._prior_b = {\n",
    "                'mean': torch.zeros_like(self.b_mean, requires_grad=False),\n",
    "                'var': torch.ones_like(self.b_var, requires_grad=False) * s1}\n",
    "        else:\n",
    "            raise NotImplementedError(\"{} prior is not supported\".format(prior))\n",
    "\n",
    "    def compute_kl(self):\n",
    "        if self.prior == 'DiagonalGaussian':\n",
    "            kl_A = KL_GG(self.A_mean, self.A_var, self._prior_A['mean'],\n",
    "                         self._prior_A['var'])\n",
    "            kl_b = KL_GG(self.b_mean, self.b_var, self._prior_b['mean'],\n",
    "                         self._prior_b['var'])\n",
    "        return kl_A + kl_b\n",
    "\n",
    "    def forward(self, x):\n",
    "        \"\"\"\n",
    "        Compute expectation and variance after linear transform\n",
    "        y = xA^T + b\n",
    "\n",
    "        :param x: input, size [batch, in_features]\n",
    "        :return: tuple (y_mean, y_var),  shapes:\n",
    "                 y_mean: [batch, out_features]\n",
    "                 y_var:  [batch, out_features, out_features]\n",
    "        \"\"\"\n",
    "\n",
    "        if self.certain:\n",
    "            x_mean = x\n",
    "            x_var = None\n",
    "        else:\n",
    "            x_mean = x[0]\n",
    "            x_var = x[1]\n",
    "\n",
    "        y_mean = F.linear(x_mean, self.A_mean.t()) + self.b_mean\n",
    "\n",
    "        if self.certain:\n",
    "            xx = x_mean * x_mean\n",
    "            y_var = torch.diag_embed(F.linear(xx, self.A_var.t()) + self.b_var)\n",
    "        else:\n",
    "            y_var = self.compute_var(x_mean, x_var)\n",
    "\n",
    "        return y_mean, y_var\n",
    "\n",
    "    def compute_var(self, x_mean, x_var):\n",
    "        x_var_diag = matrix_diag_part(x_var)\n",
    "        xx_mean = x_var_diag + x_mean * x_mean\n",
    "\n",
    "        term1_diag = torch.matmul(xx_mean, self.A_var)\n",
    "\n",
    "        flat_xCov = torch.reshape(x_var, (-1, self.A_mean.size(0)))  # [b*x, x]\n",
    "        xCov_A = torch.matmul(flat_xCov, self.A_mean)  # [b * x, y]\n",
    "        xCov_A = torch.reshape(xCov_A, (\n",
    "            -1, self.A_mean.size(0), self.A_mean.size(1)))  # [b, x, y]\n",
    "        xCov_A = torch.transpose(xCov_A, 1, 2)  # [b, y, x]\n",
    "        xCov_A = torch.reshape(xCov_A, (-1, self.A_mean.size(0)))  # [b*y, x]\n",
    "\n",
    "        A_xCov_A = torch.matmul(xCov_A, self.A_mean)  # [b*y, y]\n",
    "        A_xCov_A = torch.reshape(A_xCov_A, (\n",
    "            -1, self.A_mean.size(1), self.A_mean.size(1)))  # [b, y, y]\n",
    "\n",
    "        term2 = A_xCov_A\n",
    "        term2_diag = matrix_diag_part(term2)\n",
    "\n",
    "        _, n, _ = term2.size()\n",
    "        idx = torch.arange(0, n)\n",
    "\n",
    "        term3_diag = self.b_var\n",
    "        result_diag = term1_diag + term2_diag + term3_diag\n",
    "\n",
    "        result = term2\n",
    "        result[:, idx, idx] = result_diag\n",
    "        return result\n"
   ]
  },
  {
   "cell_type": "code",
   "execution_count": 991,
   "metadata": {},
   "outputs": [],
   "source": [
    "\n",
    "class RegressionLoss(nn.Module):\n",
    "    def __init__(self, net, method='bayes', use_heteroskedastic=False,\n",
    "                 homo_log_var_scale=1.):\n",
    "        \"\"\"\n",
    "        Compute ELBO for regression task\n",
    "\n",
    "        :param net: neural network\n",
    "        :param method:\n",
    "        :param use_heteroskedastic:\n",
    "        :param homo_log_var_scale:\n",
    "        \"\"\"\n",
    "        super().__init__()\n",
    "\n",
    "        self.net = net\n",
    "        self.method = method\n",
    "        self.use_het = use_heteroskedastic\n",
    "        if not self.use_het and homo_log_var_scale is None:\n",
    "            raise ValueError(\n",
    "                \"homo_log_var_scale must be set in homoskedastic mode\")\n",
    "\n",
    "        if self.use_het:\n",
    "            raise NotImplementedError(\"heterostadic is not supported yet\")\n",
    "\n",
    "        self.homo_log_var_scale = homo_log_var_scale\n",
    "\n",
    "    def gaussian_likelihood_core(self, target, mean, log_var, smm, sml, sll):\n",
    "        const = math.log(2 * math.pi)\n",
    "        exp = torch.exp(-log_var + 0.5 * sll)\n",
    "        return -0.5 * (const + log_var + exp * (smm + (mean - sml - target) ** 2))\n",
    "\n",
    "    def heteroskedastic_gaussian_loglikelihood(self, pred_mean, pred_var,\n",
    "                                               target):\n",
    "        log_var = pred_mean[:, 1].view(-1)\n",
    "        mean = pred_mean[:, 0].view(-1)\n",
    "\n",
    "        if self.method.lower() == 'bayes':\n",
    "            sll = pred_var[:, 1, 1].view(-1)\n",
    "            smm = pred_var[:, 0, 0].view(-1)\n",
    "            sml = pred_var[:, 0, 1].view(-1)\n",
    "        else:\n",
    "            sll = smm = sml = 0\n",
    "        return self.gaussian_likelihood_core(target, mean, log_var, smm, sml,\n",
    "                                             sll)\n",
    "\n",
    "    def homoskedastic_gaussian_loglikelihood(self, pred_mean, pred_var, target):\n",
    "        log_var = torch.FloatTensor([self.homo_log_var_scale], device=pred_mean.device)\n",
    "        mean = pred_mean[:, 0].view(-1)\n",
    "        sll = sml = 0\n",
    "        if self.method.lower() == 'bayes':\n",
    "            smm = pred_var[:, 0, 0].view(-1)\n",
    "        else:\n",
    "            smm = 0\n",
    "        return self.gaussian_likelihood_core(target, mean, log_var, smm, sml,\n",
    "                                         sll)\n",
    "\n",
    "    def forward(self, pred, target):\n",
    "        pred_mean = pred[0]\n",
    "        pred_var = pred[1]\n",
    "\n",
    "        assert not target.requires_grad\n",
    "        kl = 0.0\n",
    "        for module in self.net.children():\n",
    "            if hasattr(module, 'compute_kl'):\n",
    "                kl = kl + module.compute_kl()\n",
    "        if hasattr(self.net, 'compute_kl'):\n",
    "            kl = kl + self.net.compute_kl()\n",
    "\n",
    "        gaussian_likelihood = self.heteroskedastic_gaussian_loglikelihood if self.use_het \\\n",
    "            else self.homoskedastic_gaussian_loglikelihood\n",
    "\n",
    "        log_likelihood = gaussian_likelihood(pred_mean, pred_var, target)\n",
    "        batched_likelihood = torch.mean(log_likelihood)\n",
    "\n",
    "        loss = kl - batched_likelihood\n",
    "        return loss, batched_likelihood.detach(), kl\n"
   ]
  },
  {
   "cell_type": "code",
   "execution_count": 992,
   "metadata": {},
   "outputs": [],
   "source": [
    "torch_reg = LinearGaussian(2, 1)"
   ]
  },
  {
   "cell_type": "code",
   "execution_count": 993,
   "metadata": {},
   "outputs": [],
   "source": [
    "A_mean = torch_reg.A_mean.detach().numpy()\n",
    "A_var = torch_reg.A_var.detach().numpy()\n",
    "\n",
    "b_mean = torch_reg.b_mean.detach().numpy()\n",
    "b_var = torch_reg.b_var.detach().numpy()\n",
    "\n",
    "class param():\n",
    "    def __init__(self, mean, var):\n",
    "        self.mean = mean\n",
    "        self.var = var\n",
    "        self.shape = mean.shape\n",
    "\n",
    "A = param(A_mean, A_var)\n",
    "b = param(b_mean, b_var)"
   ]
  },
  {
   "cell_type": "code",
   "execution_count": 994,
   "metadata": {},
   "outputs": [],
   "source": [
    "torch_pred = torch_reg((torch_mean_1, torch_var_1))"
   ]
  },
  {
   "cell_type": "code",
   "execution_count": 995,
   "metadata": {},
   "outputs": [],
   "source": [
    "target = torch.FloatTensor(toy_data[0][1])"
   ]
  },
  {
   "cell_type": "code",
   "execution_count": 996,
   "metadata": {},
   "outputs": [],
   "source": [
    "criterion = RegressionLoss(torch_reg)"
   ]
  },
  {
   "cell_type": "code",
   "execution_count": 997,
   "metadata": {},
   "outputs": [],
   "source": [
    "loss = criterion(torch_pred, target)"
   ]
  },
  {
   "cell_type": "code",
   "execution_count": 998,
   "metadata": {},
   "outputs": [
    {
     "data": {
      "text/plain": [
       "(tensor(8.7631, grad_fn=<SubBackward0>),\n",
       " tensor(-8.2606),\n",
       " tensor(0.5024, grad_fn=<AddBackward0>))"
      ]
     },
     "execution_count": 998,
     "metadata": {},
     "output_type": "execute_result"
    }
   ],
   "source": [
    "loss"
   ]
  },
  {
   "cell_type": "markdown",
   "metadata": {},
   "source": [
    "### tf:"
   ]
  },
  {
   "cell_type": "code",
   "execution_count": 999,
   "metadata": {},
   "outputs": [
    {
     "name": "stdout",
     "output_type": "stream",
     "text": [
      "(500, 1, 1)\n"
     ]
    }
   ],
   "source": [
    "tf_mean, tf_var = linear(param(tf_mean_1, tf_var_1), A, b)"
   ]
  },
  {
   "cell_type": "code",
   "execution_count": 1000,
   "metadata": {},
   "outputs": [
    {
     "data": {
      "text/plain": [
       "tensor([[[34.9562]],\n",
       "\n",
       "        [[36.5441]],\n",
       "\n",
       "        [[35.4090]]], grad_fn=<SliceBackward>)"
      ]
     },
     "execution_count": 1000,
     "metadata": {},
     "output_type": "execute_result"
    }
   ],
   "source": [
    "torch_pred[1][:3]"
   ]
  },
  {
   "cell_type": "code",
   "execution_count": 1001,
   "metadata": {},
   "outputs": [
    {
     "data": {
      "text/plain": [
       "<tf.Tensor: id=4177, shape=(3, 1, 1), dtype=float32, numpy=\n",
       "array([[[34.956158]],\n",
       "\n",
       "       [[36.544125]],\n",
       "\n",
       "       [[35.409035]]], dtype=float32)>"
      ]
     },
     "execution_count": 1001,
     "metadata": {},
     "output_type": "execute_result"
    }
   ],
   "source": [
    "tf_var[:3]"
   ]
  },
  {
   "cell_type": "code",
   "execution_count": 1002,
   "metadata": {},
   "outputs": [],
   "source": [
    "class DiagonalGaussianVar(object):\n",
    "    def __init__(self, mean, var, shape=None):\n",
    "        self.mean = mean\n",
    "        self.var = var\n",
    "        self.shape = tf.shape(mean) if shape is None else shape\n",
    "    \n",
    "    def sample(self, n_sample=None):\n",
    "        no_sample_dim = False\n",
    "        if n_sample is None:\n",
    "            no_sample_dim = True\n",
    "            n_sample = 1\n",
    "        s = tf.random_normal(shape=tf.concat([[n_sample], self.shape], axis=0)) * tf.sqrt(self.var) + self.mean\n",
    "        if no_sample_dim:\n",
    "            return s[0,...]\n",
    "        else:\n",
    "            return s\n",
    "\n",
    "    def log_likelihood(self, x):\n",
    "        return -0.5 * (bu.log2pi + tf.log(self.var) + (x - self.mean)**2 / self.var)\n",
    "\n",
    "    \n",
    "def KL(p, q, hypers=None, global_step=1.0E99):\n",
    "    safe_qvar = q.var + bu.EPSILON\n",
    "    entropy_term = 0.5 * (1 + bu.log2pi + tf.log(p.var))\n",
    "\n",
    "    cross_entropy_term = 0.5 * (bu.log2pi + tf.log(safe_qvar) + (p.var + (p.mean - q.mean)**2) / safe_qvar)           \n",
    "    return tf.reduce_sum(cross_entropy_term - entropy_term)\n",
    "\n",
    "class Parameter(object):\n",
    "    def __init__(self, value, prior, variables=None):\n",
    "        self.value = value\n",
    "        self.prior = prior\n",
    "        self.variables = variables\n",
    "    \n",
    "    def surprise(self, hypers=None, global_step=1.0E99):\n",
    "        \"\"\"\n",
    "        compute KL(value || prior) \n",
    "        assuming\n",
    "            (1) diagonal gaussian value\n",
    "            (2) diagonal gaussian prior with scalar mu, var\n",
    "        \"\"\"\n",
    "        return KL(self.value, self.prior, hypers, global_step)\n",
    "\n",
    "    def log_likelihood(self):\n",
    "        return tf.reduce_sum(self.prior.log_likelihood(self.value.mean))\n",
    "\n",
    "    def standardize(self):\n",
    "        return DiagonalGaussianVar(\n",
    "            (self.value.mean - self.prior.mean) / np.sqrt(self.prior.var),\n",
    "            self.value.var / self.prior.var)\n"
   ]
  },
  {
   "cell_type": "code",
   "execution_count": 1003,
   "metadata": {},
   "outputs": [],
   "source": [
    "def heteroskedastic_gaussian_loglikelihood(pred, target, global_step, hypers):\n",
    "    log_variance = tf.reshape(pred.mean[:,1], [-1])\n",
    "    mean = tf.reshape(pred.mean[:,0], [-1])\n",
    "    if hypers['method'].lower().strip() == 'bayes':\n",
    "        sll = tf.reshape(pred.var[:,1,1], [-1])\n",
    "        smm = tf.reshape(pred.var[:,0,0], [-1])\n",
    "        sml = tf.reshape(pred.var[:,0,1], [-1])\n",
    "    else:\n",
    "        sll = smm = sml = tf.constant(0.0, dtype=tf.float32)\n",
    "    return gaussian_loglikelihood_core(target, mean, log_variance, smm, sml, sll)\n",
    "\n",
    "def homoskedastic_gaussian_loglikelihood(pred, target, global_step, hypers):\n",
    "    log_variance = tf.constant(hypers[\"homo_logvar_scale\"], dtype=tf.float32)\n",
    "    mean = tf.reshape(pred.mean[:,0], [-1])\n",
    "    sll = tf.constant(0.0, dtype=tf.float32)\n",
    "    sml = tf.constant(0.0, dtype=tf.float32)\n",
    "    if hypers['method'].lower().strip() == 'bayes':\n",
    "        smm = tf.reshape(pred.var[:,0,0], [-1])\n",
    "    else:\n",
    "        smm = tf.constant(0.0, dtype=tf.float32)\n",
    "    return gaussian_loglikelihood_core(target, mean, log_variance, smm, sml, sll)\n",
    "\n",
    "def gaussian_loglikelihood_core(target, mean, log_variance, smm, sml, sll):\n",
    "    \n",
    "    return -0.5 * (\n",
    "        bu.log2pi \n",
    "        + log_variance\n",
    "        + tf.exp(-log_variance + 0.5*sll)\n",
    "          * (smm + (mean - sml - target)**2)\n",
    "    )\n",
    "\n",
    "def regression_loss(pred, target, model, hypers, global_step):\n",
    "    all_surprise = tf.reduce_sum(tf.stack([w.surprise(hypers, global_step) for w in model.parameters]))\n",
    "    gaussian_loglikelihood = (     heteroskedastic_gaussian_loglikelihood \n",
    "                              if   hypers['style'] == 'heteroskedastic' \n",
    "                              else homoskedastic_gaussian_loglikelihood)\n",
    "    log_likelihood = gaussian_loglikelihood(pred, target, global_step, hypers)\n",
    "    batch_log_likelihood = tf.reduce_mean(log_likelihood)\n",
    "    L =  all_surprise - batch_log_likelihood\n",
    "    return L, batch_log_likelihood, all_surprise\n"
   ]
  },
  {
   "cell_type": "markdown",
   "metadata": {},
   "source": [
    "##### распределения"
   ]
  },
  {
   "cell_type": "code",
   "execution_count": 1004,
   "metadata": {},
   "outputs": [],
   "source": [
    "prior_A = DiagonalGaussianVar(tf.zeros_like(A.mean, dtype=tf.float32), \n",
    "                              tf.ones_like(A.var, dtype=tf.float32))\n",
    "\n",
    "prior_b = DiagonalGaussianVar(tf.zeros_like(b.mean, dtype=tf.float32),\n",
    "                             tf.ones_like(b.var, dtype=tf.float32))"
   ]
  },
  {
   "cell_type": "code",
   "execution_count": 1005,
   "metadata": {},
   "outputs": [],
   "source": [
    "out_dst = DiagonalGaussianVar(tf_mean, tf_var)"
   ]
  },
  {
   "cell_type": "code",
   "execution_count": 1006,
   "metadata": {},
   "outputs": [],
   "source": [
    "value_A = DiagonalGaussianVar(A.mean, A.var)\n",
    "value_b = DiagonalGaussianVar(b.mean, b.var)"
   ]
  },
  {
   "cell_type": "code",
   "execution_count": 1007,
   "metadata": {},
   "outputs": [],
   "source": [
    "param_A = Parameter(value_A, prior_A)\n",
    "param_b = Parameter(value_b, prior_b)"
   ]
  },
  {
   "cell_type": "code",
   "execution_count": 1008,
   "metadata": {},
   "outputs": [],
   "source": [
    "hypers = {}\n",
    "hypers['style'] = 'homosked'\n",
    "hypers[\"homo_logvar_scale\"] = 1.\n",
    "hypers['method'] = 'bayes'"
   ]
  },
  {
   "cell_type": "code",
   "execution_count": 1009,
   "metadata": {},
   "outputs": [],
   "source": [
    "class model():\n",
    "    def __init__(self, params):\n",
    "        self.parameters = params"
   ]
  },
  {
   "cell_type": "code",
   "execution_count": 1010,
   "metadata": {},
   "outputs": [],
   "source": [
    "tf_model = model([param_A, param_b])"
   ]
  },
  {
   "cell_type": "code",
   "execution_count": 1011,
   "metadata": {},
   "outputs": [],
   "source": [
    "tf_pred = param(tf_mean, tf_var)"
   ]
  },
  {
   "cell_type": "code",
   "execution_count": 1012,
   "metadata": {},
   "outputs": [
    {
     "data": {
      "text/plain": [
       "(<tf.Tensor: id=4264, shape=(), dtype=float32, numpy=8.763061>,\n",
       " <tf.Tensor: id=4263, shape=(), dtype=float32, numpy=-8.260625>,\n",
       " <tf.Tensor: id=4236, shape=(), dtype=float32, numpy=0.5024353>)"
      ]
     },
     "execution_count": 1012,
     "metadata": {},
     "output_type": "execute_result"
    }
   ],
   "source": [
    "regression_loss(tf_pred, toy_data[0][1], tf_model, hypers, 1.)"
   ]
  },
  {
   "cell_type": "markdown",
   "metadata": {},
   "source": [
    "#### check KL"
   ]
  },
  {
   "cell_type": "code",
   "execution_count": 862,
   "metadata": {},
   "outputs": [
    {
     "data": {
      "text/plain": [
       "(Parameter containing:\n",
       " tensor([0.], requires_grad=True), Parameter containing:\n",
       " tensor([0.3284], requires_grad=True))"
      ]
     },
     "execution_count": 862,
     "metadata": {},
     "output_type": "execute_result"
    }
   ],
   "source": [
    "torch_reg.b_mean, torch_reg.b_var"
   ]
  },
  {
   "cell_type": "code",
   "execution_count": 863,
   "metadata": {},
   "outputs": [
    {
     "data": {
      "text/plain": [
       "(array([0.], dtype=float32), array([0.3283553], dtype=float32))"
      ]
     },
     "execution_count": 863,
     "metadata": {},
     "output_type": "execute_result"
    }
   ],
   "source": [
    "b.mean, b.var"
   ]
  },
  {
   "cell_type": "code",
   "execution_count": 864,
   "metadata": {},
   "outputs": [
    {
     "data": {
      "text/plain": [
       "(<tf.Tensor: id=3457, shape=(1,), dtype=float32, numpy=array([0.], dtype=float32)>,\n",
       " <tf.Tensor: id=3460, shape=(1,), dtype=float32, numpy=array([1.], dtype=float32)>)"
      ]
     },
     "execution_count": 864,
     "metadata": {},
     "output_type": "execute_result"
    }
   ],
   "source": [
    "prior_b.mean, prior_b.var"
   ]
  },
  {
   "cell_type": "code",
   "execution_count": 870,
   "metadata": {},
   "outputs": [],
   "source": [
    "def KL(p, q, hypers=None, global_step=1.0E99):\n",
    "    safe_qvar = q.var + bu.EPSILON\n",
    "    entropy_term = 0.5 * (1 + bu.log2pi + tf.log(p.var))\n",
    "    \n",
    "    \n",
    "    cross_entropy_term = 0.5 * (bu.log2pi + tf.log(safe_qvar) + (p.var + (p.mean - q.mean)**2) / safe_qvar) \n",
    "    return tf.reduce_sum(cross_entropy_term - entropy_term)\n",
    "\n",
    "\n",
    "def KL_GG(p_mean, p_var, q_mean, q_var):\n",
    "    \"\"\"\n",
    "    Computes KL (p || q) from p to q, assuming that both p and q have normal\n",
    "    distribution\n",
    "\n",
    "    :param p_mean:\n",
    "    :param p_var:\n",
    "    :param q_mean:\n",
    "    :param q_var:\n",
    "    :return:\n",
    "    \"\"\"\n",
    "    s_q_var = q_var + EPS\n",
    "    entropy = 0.5 * (1 + np.log(2 * np.pi) + torch.log(p_var))\n",
    "    \n",
    "    \n",
    "    cross_entropy = 0.5 * (math.log(2 * math.pi) + torch.log(s_q_var) + \\\n",
    "                           (p_var + (p_mean - q_mean) ** 2) / s_q_var)\n",
    "    return torch.sum(cross_entropy - entropy)\n"
   ]
  },
  {
   "cell_type": "code",
   "execution_count": 871,
   "metadata": {},
   "outputs": [
    {
     "data": {
      "text/plain": [
       "<tf.Tensor: id=3601, shape=(), dtype=float32, numpy=0.22100753>"
      ]
     },
     "execution_count": 871,
     "metadata": {},
     "output_type": "execute_result"
    }
   ],
   "source": [
    "KL(value_b, prior_b)"
   ]
  },
  {
   "cell_type": "code",
   "execution_count": 872,
   "metadata": {},
   "outputs": [
    {
     "data": {
      "text/plain": [
       "tensor(0.2210, grad_fn=<SumBackward0>)"
      ]
     },
     "execution_count": 872,
     "metadata": {},
     "output_type": "execute_result"
    }
   ],
   "source": [
    "KL_GG(torch_reg.b_mean, torch_reg.b_var, torch_reg._prior_b['mean'], torch_reg._prior_b['var'])"
   ]
  },
  {
   "cell_type": "code",
   "execution_count": 875,
   "metadata": {},
   "outputs": [
    {
     "data": {
      "text/plain": [
       "<tf.Tensor: id=3641, shape=(), dtype=float32, numpy=0.13841438>"
      ]
     },
     "execution_count": 875,
     "metadata": {},
     "output_type": "execute_result"
    }
   ],
   "source": [
    "KL(value_A, prior_A)"
   ]
  },
  {
   "cell_type": "code",
   "execution_count": 876,
   "metadata": {},
   "outputs": [
    {
     "data": {
      "text/plain": [
       "tensor(0.1384, grad_fn=<SumBackward0>)"
      ]
     },
     "execution_count": 876,
     "metadata": {},
     "output_type": "execute_result"
    }
   ],
   "source": [
    "KL_GG(torch_reg.A_mean, torch_reg.A_var, torch_reg._prior_A['mean'], torch_reg._prior_A['var'])"
   ]
  },
  {
   "cell_type": "markdown",
   "metadata": {},
   "source": [
    "#### checl likelihood"
   ]
  },
  {
   "cell_type": "code",
   "execution_count": 877,
   "metadata": {},
   "outputs": [
    {
     "data": {
      "text/plain": [
       "{'homo_logvar_scale': 1.0, 'method': 'bayes', 'style': 'homosked'}"
      ]
     },
     "execution_count": 877,
     "metadata": {},
     "output_type": "execute_result"
    }
   ],
   "source": [
    "hypers"
   ]
  },
  {
   "cell_type": "code",
   "execution_count": 943,
   "metadata": {},
   "outputs": [],
   "source": [
    "def heteroskedastic_gaussian_loglikelihood_tf(pred, target, global_step, hypers):\n",
    "    log_variance = tf.reshape(pred.mean[:,1], [-1])\n",
    "    mean = tf.reshape(pred.mean[:,0], [-1])\n",
    "    if hypers['method'].lower().strip() == 'bayes':\n",
    "        sll = tf.reshape(pred.var[:,1,1], [-1])\n",
    "        smm = tf.reshape(pred.var[:,0,0], [-1])\n",
    "        sml = tf.reshape(pred.var[:,0,1], [-1])\n",
    "    else:\n",
    "        sll = smm = sml = tf.constant(0.0, dtype=tf.float32)\n",
    "    return gaussian_loglikelihood_core_tf(target, mean, log_variance, smm, sml, sll)\n",
    "\n",
    "def homoskedastic_gaussian_loglikelihood_tf(pred, target, global_step, hypers):\n",
    "    log_variance = tf.constant(hypers[\"homo_logvar_scale\"], dtype=tf.float32)\n",
    "    mean = tf.reshape(pred.mean[:,0], [-1])\n",
    "    sll = tf.constant(0.0, dtype=tf.float32)\n",
    "    sml = tf.constant(0.0, dtype=tf.float32)\n",
    "    if hypers['method'].lower().strip() == 'bayes':\n",
    "        smm = tf.reshape(pred.var[:,0,0], [-1])\n",
    "    else:\n",
    "        smm = tf.constant(0.0, dtype=tf.float32)\n",
    "    return gaussian_loglikelihood_core_tf(target, mean, log_variance, smm, sml, sll)\n",
    "\n",
    "def gaussian_loglikelihood_core_tf(target, mean, log_variance, smm, sml, sll):\n",
    "    return -0.5 * (\n",
    "        bu.log2pi \n",
    "        + log_variance\n",
    "        + tf.exp(-log_variance + 0.5*sll)\n",
    "          * (smm + (mean - sml - target)**2)\n",
    "    )"
   ]
  },
  {
   "cell_type": "code",
   "execution_count": 944,
   "metadata": {},
   "outputs": [],
   "source": [
    "class test_ll():\n",
    "    def __init__(self, method, logvar_scale):\n",
    "        self.method = method\n",
    "        self.logvar_scale = logvar_scale\n",
    "        \n",
    "    def gaussian_likelihood_core(self, target, mean, log_var, smm, sml, sll):\n",
    "        const = math.log(2 * math.pi)\n",
    "        exp = torch.exp(-log_var + 0.5 * sll)\n",
    "        return -0.5 * (const + log_var + exp * (smm + (mean - sml - target) ** 2))\n",
    "\n",
    "    def heteroskedastic_gaussian_loglikelihood(self, pred_mean, pred_var,\n",
    "                                               target):\n",
    "        log_var = pred_mean[:, 1].view(-1)\n",
    "        mean = pred_mean[:, 0].view(-1)\n",
    "\n",
    "        if self.method.lower() == 'bayes':\n",
    "            sll = pred_var[:, 1, 1].view(-1)\n",
    "            smm = pred_var[:, 0, 0].view(-1)\n",
    "            sml = pred_var[:, 0, 1].view(-1)\n",
    "        else:\n",
    "            sll = smm = sml = 0\n",
    "        return self.gaussian_likelihood_core(target, mean, log_var, smm, sml,\n",
    "                                             sll)\n",
    "\n",
    "    def homoskedastic_gaussian_loglikelihood(self, pred_mean, pred_var, target):\n",
    "        log_var = torch.FloatTensor([self.logvar_scale], device=pred_mean.device)\n",
    "        mean = pred_mean[:, 0].view(-1)\n",
    "        sll = sml = 0\n",
    "        if self.method.lower() == 'bayes':\n",
    "            smm = pred_var[:, 0, 0].view(-1)\n",
    "        else:\n",
    "            smm = 0\n",
    "        return self.gaussian_likelihood_core(target, mean, log_var, smm, sml,\n",
    "                                         sll)\n"
   ]
  },
  {
   "cell_type": "code",
   "execution_count": 945,
   "metadata": {},
   "outputs": [],
   "source": [
    "ll_tester = test_ll('bayes', logvar_scale=1)"
   ]
  },
  {
   "cell_type": "code",
   "execution_count": 949,
   "metadata": {},
   "outputs": [
    {
     "data": {
      "text/plain": [
       "tensor([-11.6795,  -9.9893, -10.0081, -10.9889, -10.0269,  -9.9133],\n",
       "       grad_fn=<SliceBackward>)"
      ]
     },
     "execution_count": 949,
     "metadata": {},
     "output_type": "execute_result"
    }
   ],
   "source": [
    "ll_tester.homoskedastic_gaussian_loglikelihood(torch_pred[0], torch_pred[1], torch.FloatTensor(toy_data[0][1]))[341:347]"
   ]
  },
  {
   "cell_type": "code",
   "execution_count": 950,
   "metadata": {},
   "outputs": [
    {
     "data": {
      "text/plain": [
       "<tf.Tensor: id=4022, shape=(6,), dtype=float32, numpy=\n",
       "array([-11.679482,  -9.989309, -10.008125, -10.988946, -10.026949,\n",
       "        -9.913277], dtype=float32)>"
      ]
     },
     "execution_count": 950,
     "metadata": {},
     "output_type": "execute_result"
    }
   ],
   "source": [
    "homoskedastic_gaussian_loglikelihood_tf(tf_pred, toy_data[0][1], 1e98, hypers)[341:347]"
   ]
  },
  {
   "cell_type": "markdown",
   "metadata": {},
   "source": [
    "## ReLU"
   ]
  },
  {
   "cell_type": "code",
   "execution_count": 4,
   "metadata": {},
   "outputs": [],
   "source": [
    "import tensorflow as tf\n",
    "import numpy as np\n",
    "import utils as u\n",
    "import bayes_util as bu\n",
    "import gaussian_variables as gv\n",
    "\n",
    "EPSILON = 1e-6\n",
    "\n",
    "\n",
    "def linear(x, A, b):\n",
    "    \"\"\"\n",
    "    compute y = x^T A + b\n",
    "    \"\"\"\n",
    "    x_mean = x.mean\n",
    "    y_mean = tf.matmul(x_mean, A.mean) + b.mean\n",
    "    x_cov = x.var\n",
    "    y_cov = linear_covariance(x_mean, x_cov, A, b)\n",
    "    return gv.GaussianVar(y_mean, y_cov)\n",
    "\n",
    "def linear_certain_activations(x_certain, A, b):\n",
    "    \"\"\"\n",
    "    compute y = x^T A + b\n",
    "    assuming x has zero variance\n",
    "    \"\"\"\n",
    "    x_mean = x_certain\n",
    "    xx = x_mean*x_mean\n",
    "    y_mean = tf.matmul(x_mean, A.mean) + b.mean\n",
    "    y_cov = tf.matrix_diag(tf.matmul(xx, A.var) + b.var)\n",
    "    return y_mean, y_cov\n",
    "\n",
    "def linear_relu(x, A, b):\n",
    "    \"\"\"\n",
    "    compute y = relu(x)^T A + b\n",
    "    \"\"\"\n",
    "    x_var_diag = tf.matrix_diag_part(x.var)\n",
    "    sqrt_x_var_diag = tf.sqrt(x_var_diag)\n",
    "    mu = x.mean / (sqrt_x_var_diag + EPSILON)\n",
    "    \n",
    "    def relu_covariance(x):\n",
    "        mu1 = tf.expand_dims(mu, 2)\n",
    "        mu2 = tf.transpose(mu1, [0,2,1])\n",
    "\n",
    "        s11s22 = tf.expand_dims(x_var_diag, axis=2) * tf.expand_dims(x_var_diag, axis=1)\n",
    "        rho = x.var / (tf.sqrt(s11s22))# + EPSILON)\n",
    "        rho = tf.clip_by_value(rho, -1/(1+EPSILON), 1/(1+EPSILON))\n",
    "\n",
    "        return x.var * bu.delta(rho, mu1, mu2)   \n",
    "    \n",
    "    z_mean = sqrt_x_var_diag * bu.softrelu(mu)\n",
    "    y_mean = tf.matmul(z_mean, A.mean) + b.mean\n",
    "    z_cov = relu_covariance(x)\n",
    "    y_cov = linear_covariance(z_mean, z_cov, A, b)\n",
    "    return y_mean, y_cov\n",
    "\n",
    "def linear_relu_diagonal(x, A, b):\n",
    "    \"\"\"\n",
    "    compute y = relu(x)^T A + b\n",
    "    \"\"\"\n",
    "    x_var_diag = x.var\n",
    "    sqrt_x_var_diag = tf.sqrt(x_var_diag)\n",
    "    mu = x.mean / (sqrt_x_var_diag + EPSILON)\n",
    "    \n",
    "    pdf = bu.standard_gaussian(mu) \n",
    "    cdf = bu.gaussian_cdf(mu)\n",
    "    softrelu = pdf + mu*cdf\n",
    "    \n",
    "    z_mean = sqrt_x_var_diag * softrelu\n",
    "    y_mean = tf.matmul(z_mean, A.mean) + b.mean\n",
    "    z_var = x_var_diag * (cdf + mu*softrelu - tf.square(softrelu))\n",
    "    y_cov = linear_covariance_diagonal(z_mean, z_var, A, b)\n",
    "    return y_mean, y_cov\n",
    "\n",
    "def simple(x, A, b):\n",
    "    mu = x.mean\n",
    "    y_mean = tf.matmul(mu, A.mean) + b.mean    \n",
    "    y_cov = x.var\n",
    "    return gv.GaussianVar(y_mean, y_cov)\n",
    "\n",
    "\n",
    "def linear_heaviside(x, A, b):\n",
    "    \"\"\"\n",
    "    compute y = heaviside(x)^T A + b\n",
    "    \"\"\"\n",
    "    x_var_diag = tf.matrix_diag_part(x.var)\n",
    "    mu = x.mean / (tf.sqrt(x_var_diag) + EPSILON)\n",
    "    \n",
    "    def heaviside_covariance(x):\n",
    "        mu1 = tf.expand_dims(mu, 2)\n",
    "        mu2 = tf.transpose(mu1, [0,2,1])\n",
    "\n",
    "        s11s22 = tf.expand_dims(x_var_diag, axis=2) * tf.expand_dims(x_var_diag, axis=1)\n",
    "        rho = x.var / (tf.sqrt(s11s22))# + EPSILON)\n",
    "        rho = tf.clip_by_value(rho, -1/(1+EPSILON), 1/(1+EPSILON))\n",
    "\n",
    "        return bu.heavy_g(rho, mu1, mu2)\n",
    "    \n",
    "    z_mean = bu.gaussian_cdf(mu)\n",
    "    y_mean = tf.matmul(z_mean, A.mean) + b.mean\n",
    "    z_cov = heaviside_covariance(x)\n",
    "    y_cov = linear_covariance(z_mean, z_cov, A, b)\n",
    "    return y_mean, y_cov\n",
    "\n",
    "def linear_covariance_diagonal(x_mean, x_var, A, b):\n",
    "    xx_mean = x_var + x_mean * x_mean\n",
    "    term1_diag = tf.matmul(xx_mean, A.var)\n",
    "    Asqr = tf.square(A.mean)\n",
    "    A_xCov_A = tf.matmul(x_var, Asqr)\n",
    "    term2_diag = A_xCov_A\n",
    "    term3_diag = b.var\n",
    "    result_diag = term1_diag + term2_diag + term3_diag\n",
    "    return result_diag\n",
    "\n",
    "def linear_covariance(x_mean, x_cov, A, b):\n",
    "    x_var_diag = tf.matrix_diag_part(x_cov)\n",
    "    xx_mean = x_var_diag + x_mean * x_mean\n",
    "    \n",
    "    term1_diag = tf.matmul(xx_mean, A.var)\n",
    "    \n",
    "    flat_xCov = tf.reshape(x_cov, [-1, A.shape[0]]) # [b*x, x]\n",
    "    xCov_A = tf.matmul(flat_xCov, A.mean) # [b*x, y]\n",
    "    xCov_A = tf.reshape(xCov_A, [-1, A.shape[0], A.shape[1]]) # [b, x, y]\n",
    "    xCov_A = tf.transpose(xCov_A, [0, 2, 1]) # [b, y, x]\n",
    "    xCov_A = tf.reshape(xCov_A, [-1, A.shape[0]]) # [b*y, x]\n",
    "    A_xCov_A = tf.matmul(xCov_A, A.mean) # [b*y, y]\n",
    "    A_xCov_A = tf.reshape(A_xCov_A, [-1, A.shape[1], A.shape[1]]) # [b, y, y]\n",
    "\n",
    "    term2 = A_xCov_A\n",
    "    term2_diag = tf.matrix_diag_part(term2)\n",
    "    \n",
    "    term3_diag = b.var\n",
    "    \n",
    "    result_diag = term1_diag + term2_diag + term3_diag\n",
    "    return tf.matrix_set_diag(term2, result_diag)      \n",
    "\n",
    "def logsumexp(y, keepdims=False):\n",
    "    \"\"\"\n",
    "    compute <logsumexp(y)>\n",
    "    \"\"\"\n",
    "    lse = tf.reduce_logsumexp(y.mean, axis=-1, keep_dims=keepdims)   # [b, 1]\n",
    "    p = tf.exp(y.mean - lse)  # softmax                              # [b, y]\n",
    "    pTDiagVar = tf.reduce_sum(p * tf.matrix_diag_part(y.var), axis=-1, keep_dims=keepdims)        # [b, 1]\n",
    "    pTVarp = tf.squeeze(tf.matmul(tf.expand_dims(p, 1), tf.matmul(y.var, tf.expand_dims(p, 2))), axis=-1) # [b]\n",
    "    return lse + 0.5 * (pTDiagVar - pTVarp)\n",
    "\n",
    "def logsoftmax(y):\n",
    "    \"\"\"\n",
    "    compute <logsoftmax(y)>\n",
    "    \"\"\"\n",
    "    return y.mean - logsumexp(y, keepdims=True) # [b, y]\n",
    "\n",
    "def categorical_loss(logits, target, model, hypers, global_step, MC_samples=-1):\n",
    "    \"\"\"\n",
    "    compute <p(D|w)>_q - lambda KL(q || p)\n",
    "    \"\"\"\n",
    "    lsm = tf.cond(tf.greater(MC_samples, 0),\n",
    "        lambda: sampled_logsoftmax(logits, MC_samples), # we evaluate the logsoftmax using MC sampling\n",
    "        lambda: logsoftmax(logits)                      # we evaluate the logsoftmax using the delta approx\n",
    "    )\n",
    "\n",
    "    all_surprise = tf.reduce_sum(tf.stack([w.surprise() for w in model.parameters]))\n",
    "    logprob = tf.reduce_sum(target * lsm, axis=1)\n",
    "    batch_logprob = tf.reduce_mean(logprob)\n",
    "    \n",
    "    lmda = hypers['lambda']\n",
    "    \n",
    "    L = lmda * all_surprise / hypers['dataset_size'] - batch_logprob\n",
    "    return L, batch_logprob, all_surprise\n",
    "\n",
    "def heteroskedastic_gaussian_loglikelihood(pred, target, global_step, hypers):\n",
    "    log_variance = tf.reshape(pred.mean[:,1], [-1])\n",
    "    mean = tf.reshape(pred.mean[:,0], [-1])\n",
    "    if hypers['method'].lower().strip() == 'bayes':\n",
    "        sll = tf.reshape(pred.var[:,1,1], [-1])\n",
    "        smm = tf.reshape(pred.var[:,0,0], [-1])\n",
    "        sml = tf.reshape(pred.var[:,0,1], [-1])\n",
    "    else:\n",
    "        sll = smm = sml = tf.constant(0.0, dtype=tf.float32)\n",
    "    return gaussian_loglikelihood_core(target, mean, log_variance, smm, sml, sll)\n",
    "\n",
    "def homoskedastic_gaussian_loglikelihood(pred, target, global_step, hypers):\n",
    "    log_variance = tf.constant(hypers[\"homo_logvar_scale\"], dtype=tf.float32)\n",
    "    mean = tf.reshape(pred.mean[:,0], [-1])\n",
    "    sll = tf.constant(0.0, dtype=tf.float32)\n",
    "    sml = tf.constant(0.0, dtype=tf.float32)\n",
    "    if hypers['method'].lower().strip() == 'bayes':\n",
    "        smm = tf.reshape(pred.var[:,0,0], [-1])\n",
    "    else:\n",
    "        smm = tf.constant(0.0, dtype=tf.float32)\n",
    "    return gaussian_loglikelihood_core(target, mean, log_variance, smm, sml, sll)\n",
    "\n",
    "def gaussian_loglikelihood_core(target, mean, log_variance, smm, sml, sll):\n",
    "    return -0.5 * (\n",
    "        bu.log2pi \n",
    "        + log_variance\n",
    "        + tf.exp(-log_variance + 0.5*sll)\n",
    "          * (smm + (mean - sml - target)**2)\n",
    "    )\n",
    "\n",
    "def regression_loss(pred, target, model, hypers, global_step):\n",
    "    all_surprise = tf.reduce_sum(tf.stack([w.surprise(hypers, global_step) for w in model.parameters]))\n",
    "    gaussian_loglikelihood = (     heteroskedastic_gaussian_loglikelihood \n",
    "                              if   hypers['style'] == 'heteroskedastic' \n",
    "                              else homoskedastic_gaussian_loglikelihood)\n",
    "    log_likelihood = gaussian_loglikelihood(pred, target, global_step, hypers)\n",
    "    batch_log_likelihood = tf.reduce_mean(log_likelihood)\n",
    "    lmda = u.piecewise_anneal(hypers, 'lambda', global_step)\n",
    "    L = lmda * all_surprise / hypers['dataset_size'] - batch_log_likelihood\n",
    "    return L, batch_log_likelihood, all_surprise\n",
    "\n",
    "def point_catagorical_loss(logits, target, model, hypers, global_step, MC_samples=-1):\n",
    "    logprob = -tf.reduce_mean(\n",
    "        tf.nn.softmax_cross_entropy_with_logits(logits=logits, labels=target))\n",
    "    return -logprob, logprob, tf.constant(0.0, dtype=tf.float32)\n",
    "\n",
    "def point_regression_loss(pred, target, model, hypers, global_step):\n",
    "    gaussian_loglikelihood = (     heteroskedastic_gaussian_loglikelihood \n",
    "                          if   hypers['style'] == 'heteroskedastic' \n",
    "                          else homoskedastic_gaussian_loglikelihood)\n",
    "    log_likelihood = gaussian_loglikelihood(pred, target, global_step, hypers)\n",
    "    batch_log_likelihood = tf.reduce_mean(log_likelihood)\n",
    "    if hypers['method'].lower().strip() == 'map':\n",
    "        all_LL = tf.reduce_sum(tf.stack([w.log_likelihood() for w in model.parameters]))\n",
    "        lmda = u.piecewise_anneal(hypers, 'lambda', global_step)\n",
    "        L = -lmda * all_LL / hypers['dataset_size'] - batch_log_likelihood\n",
    "    else:\n",
    "        all_LL = tf.constant(0)\n",
    "        L = -batch_log_likelihood\n",
    "    return L, batch_log_likelihood, all_LL\n",
    "\n",
    "def sample_activations(acts, n_sample):\n",
    "    \"\"\"\n",
    "    take n_sample samples from acts\n",
    "    input: acts: GaussianVar [batch_size (b), hidden size (h)]\n",
    "    \"\"\"\n",
    "    sigma_sqr = acts.var                                          # [b, h, h]\n",
    "    sigma = tf.transpose(tf.cholesky(sigma_sqr), [0,2,1])         # [b, h, h]\n",
    "    standard_samples = tf.random_normal(\n",
    "        [tf.shape(sigma)[0], n_sample, tf.shape(sigma)[-1]])      # [b, n_sample, h]\n",
    "    samples = tf.matmul(standard_samples, sigma) + tf.expand_dims(acts.mean, 1) # [b, n_sample, h]\n",
    "    return samples\n",
    "\n",
    "def sampled_logsoftmax(logits, n_sample):\n",
    "    samples = sample_activations(logits, n_sample)         # [b, n_sample, h]\n",
    "    softmax_samples = tf.nn.softmax(samples, dim=-1)       # [b, n_sample, h]\n",
    "    mean_softmax = tf.reduce_mean(softmax_samples, axis=1) # [b, h]\n",
    "    return tf.log(mean_softmax)"
   ]
  },
  {
   "cell_type": "code",
   "execution_count": 5,
   "metadata": {},
   "outputs": [],
   "source": [
    "import torch\n",
    "from torch import nn"
   ]
  },
  {
   "cell_type": "code",
   "execution_count": 6,
   "metadata": {},
   "outputs": [],
   "source": [
    "import torch\n",
    "import numpy as np\n",
    "import math\n",
    "\n",
    "EPS = 1e-8\n",
    "\n",
    "\n",
    "def standard_gaussian(x):\n",
    "    return torch.exp(-1 / 2 * x * x) / np.sqrt(2 * math.pi)\n",
    "\n",
    "\n",
    "def gaussian_cdf(x):\n",
    "    const = 1 / np.sqrt(2)\n",
    "    return 0.5 * (1 + torch.erf(x * const))\n",
    "\n",
    "\n",
    "def softrelu(x):\n",
    "    return standard_gaussian(x) + x * gaussian_cdf(x)\n",
    "\n",
    "\n",
    "def heaviside_q(rho, mu1, mu2):\n",
    "    \"\"\"\n",
    "    Compute exp ( -Q(rho, mu1, mu2) ) for Heaviside activation\n",
    "\n",
    "    \"\"\"\n",
    "    rho_hat = torch.sqrt(1 - rho * rho)\n",
    "    arcsin = torch.asin(rho)\n",
    "\n",
    "    rho_s = torch.abs(rho) + EPS\n",
    "    arcsin_s = torch.abs(torch.asin(rho)) + EPS\n",
    "\n",
    "    A = arcsin / (2 * math.pi)\n",
    "    coef = rho_s / (2 * arcsin_s * rho_hat)\n",
    "    coefs_prod = (rho * rho) / (arcsin_s * rho_hat * (1 + rho_hat))\n",
    "    return A * torch.exp( -(mu1 * mu1 + mu2 * mu2) * coef + mu1 * mu2 * coefs_prod)\n",
    "\n",
    "\n",
    "def relu_q(rho, mu1, mu2):\n",
    "    \"\"\"\n",
    "    Compute exp ( -Q(rho, mu1, mu2) ) for ReLU activation\n",
    "\n",
    "    \"\"\"\n",
    "    rho_hat_plus_one = torch.sqrt(1 - rho * rho) + 1\n",
    "    g_r = torch.asin(rho) - rho / rho_hat_plus_one  # why minus?\n",
    "\n",
    "    rho_s = torch.abs(rho) + EPS\n",
    "    g_r_s = torch.abs(g_r) + EPS\n",
    "    A = g_r / (2 * math.pi)\n",
    "\n",
    "    coef_sum = rho_s / (2 * g_r_s * rho_hat_plus_one)\n",
    "    coef_prod = (torch.asin(rho) - rho) / (rho_s * g_r_s)\n",
    "    return A * torch.exp(\n",
    "        - (mu1 * mu1 + mu2 * mu2) * coef_sum + coef_prod * mu1 * mu2)\n",
    "\n",
    "\n",
    "def delta(rho, mu1, mu2):\n",
    "    return gaussian_cdf(mu1) * gaussian_cdf(mu2) + relu_q(rho, mu1, mu2)\n",
    "\n",
    "\n",
    "def KL_GG(p_mean, p_var, q_mean, q_var):\n",
    "    \"\"\"\n",
    "    Computes KL (p || q) from p to q, assuming that both p and q have normal\n",
    "    distribution\n",
    "\n",
    "    :param p_mean:\n",
    "    :param p_var:\n",
    "    :param q_mean:\n",
    "    :param q_var:\n",
    "    :return:\n",
    "    \"\"\"\n",
    "    s_q_var = q_var + EPS\n",
    "    entropy = 0.5 * (1 + math.log(2 * math.pi) + torch.log(p_var))\n",
    "    cross_entropy = 0.5 * (math.log(2 * math.pi) + torch.log(s_q_var) + \\\n",
    "                           (p_var + (p_mean - q_mean) ** 2) / s_q_var)\n",
    "    return torch.sum(cross_entropy - entropy)\n",
    "\n"
   ]
  },
  {
   "cell_type": "code",
   "execution_count": 7,
   "metadata": {},
   "outputs": [],
   "source": [
    "import torch\n",
    "import torch.nn as nn\n",
    "import torch.nn.functional as F\n",
    "from torch.distributions import MultivariateNormal\n",
    "\n",
    "EPS = 1e-8\n",
    "\n",
    "\n",
    "def matrix_diag_part(tensor):\n",
    "    return torch.stack(tuple(t.diag() for t in torch.unbind(tensor, 0)))\n",
    "\n",
    "\n",
    "class LinearGaussian(nn.Module):\n",
    "    def __init__(self, in_features, out_features, certain=False,\n",
    "                 prior=\"DiagonalGaussian\"):\n",
    "        \"\"\"\n",
    "        Applies linear transformation y = xA^T + b\n",
    "\n",
    "        A and b are Gaussian random variables\n",
    "\n",
    "        :param in_features: input dimension\n",
    "        :param out_features: output dimension\n",
    "        :param certain:  if false, than x is equal to its mean and has no variance\n",
    "        :param prior:  prior type\n",
    "        \"\"\"\n",
    "\n",
    "        super().__init__()\n",
    "\n",
    "        self.A_mean = nn.Parameter(torch.Tensor(in_features, out_features))\n",
    "        self.b_mean = nn.Parameter(torch.Tensor(out_features))\n",
    "        self.certain = certain\n",
    "\n",
    "        self.A_var = nn.Parameter(torch.Tensor(in_features, out_features))\n",
    "        self.b_var = nn.Parameter(torch.Tensor(out_features))\n",
    "\n",
    "        self.prior = prior\n",
    "        self.initialize_weights()\n",
    "        self.construct_priors(self.prior)\n",
    "        self.use_dvi = True\n",
    "\n",
    "    def initialize_weights(self):\n",
    "        nn.init.xavier_normal_(self.A_mean)\n",
    "        nn.init.normal_(self.b_mean)\n",
    "\n",
    "        shape = self.b_var.size(0)\n",
    "        s = shape * shape\n",
    "\n",
    "        nn.init.uniform_(self.A_var, a=0, b=s)\n",
    "        nn.init.uniform_(self.b_var, a=0, b=s)\n",
    "        \n",
    "    def construct_priors(self, prior):\n",
    "        if prior == \"DiagonalGaussian\":\n",
    "            s1 = 1\n",
    "            s2 = 1\n",
    "\n",
    "            self._prior_A = {\n",
    "                'mean': torch.zeros_like(self.A_mean, requires_grad=False),\n",
    "                'var': torch.ones_like(self.A_var, requires_grad=False) * s2}\n",
    "            self._prior_b = {\n",
    "                'mean': torch.zeros_like(self.b_mean, requires_grad=False),\n",
    "                'var': torch.ones_like(self.b_var, requires_grad=False) * s1}\n",
    "        else:\n",
    "            raise NotImplementedError(\"{} prior is not supported\".format(prior))\n",
    "\n",
    "    def compute_kl(self):\n",
    "        if self.prior == 'DiagonalGaussian':\n",
    "            kl_A = KL_GG(self.A_mean, self.A_var, self._prior_A['mean'],\n",
    "                         self._prior_A['var'])\n",
    "            kl_b = KL_GG(self.b_mean, self.b_var, self._prior_b['mean'],\n",
    "                         self._prior_b['var'])\n",
    "        return kl_A + kl_b\n",
    "    \n",
    "    def determenistic(self, mode=True):\n",
    "        self.use_dvi = True\n",
    "    \n",
    "    def mcvi(self, mode=True):\n",
    "        self.use_dvi = not mode\n",
    "        \n",
    "    def forward(self, x):\n",
    "        if self.use_dvi:\n",
    "            return self._det_forward(x)\n",
    "        else:\n",
    "            return self._mcvi_forward(x)\n",
    "    \n",
    "    def get_mode(self):\n",
    "        if self.use_dvi:\n",
    "            print('Using determenistic mode')\n",
    "        else:\n",
    "            print('Using MCVI')\n",
    "    \n",
    "    def _mcvi_forward(self, x):\n",
    "        if self.certain or not self.use_dvi:\n",
    "            x_mean = x\n",
    "            x_var = None\n",
    "        else:\n",
    "            x_mean = x[0]\n",
    "            x_var = x[1]\n",
    "            \n",
    "\n",
    "        y_mean = F.linear(x_mean, self.A_mean.t()) + self.b_mean\n",
    "        \n",
    "        if self.certain or not self.use_dvi:\n",
    "            xx = x_mean * x_mean\n",
    "            y_var = torch.diag_embed(F.linear(xx, self.A_var.t()) + self.b_var)\n",
    "        else:\n",
    "            y_var = self.compute_var(x_mean, x_var)\n",
    "    \n",
    "        dst = MultivariateNormal(loc=y_mean, covariance_matrix=y_var)\n",
    "        sample = dst.rsample()\n",
    "        return sample, None\n",
    "\n",
    "    def _det_forward(self, x):\n",
    "        \"\"\"\n",
    "        Compute expectation and variance after linear transform\n",
    "        y = xA^T + b\n",
    "\n",
    "        :param x: input, size [batch, in_features]\n",
    "        :return: tuple (y_mean, y_var),  shapes:\n",
    "                 y_mean: [batch, out_features]\n",
    "                 y_var:  [batch, out_features, out_features]\n",
    "        \"\"\"\n",
    "\n",
    "        if self.certain:\n",
    "            x_mean = x\n",
    "            x_var = None\n",
    "        else:\n",
    "            x_mean = x[0]\n",
    "            x_var = x[1]\n",
    "\n",
    "        y_mean = F.linear(x_mean, self.A_mean.t()) + self.b_mean\n",
    "\n",
    "        if self.certain:\n",
    "            xx = x_mean * x_mean\n",
    "            y_var = torch.diag_embed(F.linear(xx, self.A_var.t()) + self.b_var)\n",
    "        else:\n",
    "            y_var = self.compute_var(x_mean, x_var)\n",
    "\n",
    "        return y_mean, y_var\n",
    "\n",
    "    def compute_var(self, x_mean, x_var):\n",
    "        x_var_diag = matrix_diag_part(x_var)\n",
    "        xx_mean = x_var_diag + x_mean * x_mean\n",
    "\n",
    "        term1_diag = torch.matmul(xx_mean, self.A_var)\n",
    "\n",
    "        flat_xCov = torch.reshape(x_var, (-1, self.A_mean.size(0)))  # [b*x, x]\n",
    "        xCov_A = torch.matmul(flat_xCov, self.A_mean)  # [b * x, y]\n",
    "        xCov_A = torch.reshape(xCov_A, (\n",
    "            -1, self.A_mean.size(0), self.A_mean.size(1)))  # [b, x, y]\n",
    "        xCov_A = torch.transpose(xCov_A, 1, 2)  # [b, y, x]\n",
    "        xCov_A = torch.reshape(xCov_A, (-1, self.A_mean.size(0)))  # [b*y, x]\n",
    "\n",
    "        A_xCov_A = torch.matmul(xCov_A, self.A_mean)  # [b*y, y]\n",
    "        A_xCov_A = torch.reshape(A_xCov_A, (\n",
    "            -1, self.A_mean.size(1), self.A_mean.size(1)))  # [b, y, y]\n",
    "\n",
    "        term2 = A_xCov_A\n",
    "        term2_diag = matrix_diag_part(term2)\n",
    "\n",
    "        _, n, _ = term2.size()\n",
    "        idx = torch.arange(0, n)\n",
    "\n",
    "        term3_diag = self.b_var\n",
    "        result_diag = term1_diag + term2_diag + term3_diag\n",
    "\n",
    "        result = term2\n",
    "        result[:, idx, idx] = result_diag\n",
    "        return result\n"
   ]
  },
  {
   "cell_type": "code",
   "execution_count": 8,
   "metadata": {},
   "outputs": [],
   "source": [
    "class ReluGaussian(nn.Module):\n",
    "    def __init__(self, in_features, out_features, certain=False,\n",
    "                 prior=\"DiagonalGaussian\"):\n",
    "        \"\"\"\n",
    "        Computes y = relu(x) * A.T + b\n",
    "\n",
    "        A and b are Gaussian random variables\n",
    "\n",
    "        :param in_features: input dimension\n",
    "        :param out_features: output dimension\n",
    "        :param certain:  if false, than x is equal to its mean and has no variance\n",
    "        :param prior:  prior type\n",
    "        \"\"\"\n",
    "\n",
    "        super().__init__()\n",
    "        self.linear = LinearGaussian(in_features, out_features, certain, prior)\n",
    "        self.certain = certain\n",
    "    \n",
    "    def compute_kl(self):\n",
    "        return self.linear.compute_kl()\n",
    "    \n",
    "    def determenistic(self, mode=True):\n",
    "        self.linear.use_dvi = True\n",
    "    \n",
    "    def mcvi(self, mode=True):\n",
    "        self.linear.use_dvi = not mode\n",
    "\n",
    "    def forward(self, x):\n",
    "        x_mean = x[0]\n",
    "        x_var = x[1]\n",
    "        \n",
    "        x_var_diag = matrix_diag_part(x_var)\n",
    "        sqrt_x_var_diag = torch.sqrt(x_var_diag)\n",
    "        mu = x_mean / (sqrt_x_var_diag + EPS)\n",
    "        \n",
    "        z_mean = sqrt_x_var_diag * softrelu(mu)\n",
    "        z_var = self.compute_relu_var(x_var, x_var_diag, mu)\n",
    "        \n",
    "        return self.linear((z_mean, z_var))\n",
    "        \n",
    "    \n",
    "    def compute_relu_var(self, x_var, x_var_diag, mu):\n",
    "        mu1 = torch.unsqueeze(mu, 2)\n",
    "        mu2 = mu1.permute(0, 2, 1)\n",
    "        \n",
    "        s11s22 = torch.unsqueeze(x_var_diag, dim=2) * torch.unsqueeze(x_var_diag, dim=1)\n",
    "        rho = x_var / (torch.sqrt(s11s22) + EPS)\n",
    "        rho = torch.clamp(rho, -1/(1 + EPS), 1/(1 + EPS))\n",
    "        return x_var * delta(rho, mu1, mu2)\n",
    "        \n",
    "    \n",
    "    def get_mode(self):\n",
    "        if self.linear.use_dvi:\n",
    "            print('Using determenistic mode')\n",
    "        else:\n",
    "            print('Using MCVI')"
   ]
  },
  {
   "cell_type": "code",
   "execution_count": 9,
   "metadata": {},
   "outputs": [
    {
     "data": {
      "text/plain": [
       "(tensor([[ 0.6816, -1.8824, -0.9251]], grad_fn=<AddBackward0>),\n",
       " tensor([[[ 3.3855e+01, -6.5271e-02, -2.2865e-02],\n",
       "          [-6.8984e-02,  4.0166e+01,  5.7750e-02],\n",
       "          [-2.7098e-02,  6.3768e-02,  3.9443e+01]]],\n",
       "        grad_fn=<AsStridedBackward>))"
      ]
     },
     "execution_count": 9,
     "metadata": {},
     "output_type": "execute_result"
    }
   ],
   "source": [
    "x = torch.FloatTensor([[[1, 2, 3], [3, 4, 5]], [[4, 5, 6], [6, 7, 8]]])\n",
    "relu = ReluGaussian(in_features=2, out_features=3)\n",
    "inp = (torch.randn(1, 2), torch.abs(torch.randn(1, 2, 2)))\n",
    "relu(inp)"
   ]
  },
  {
   "cell_type": "code",
   "execution_count": 10,
   "metadata": {},
   "outputs": [],
   "source": [
    "xx_tf = (inp[0].detach().numpy(), inp[1].detach().numpy())"
   ]
  },
  {
   "cell_type": "code",
   "execution_count": 11,
   "metadata": {},
   "outputs": [],
   "source": [
    "A_mean = relu.linear.A_mean.detach().numpy()\n",
    "A_var = relu.linear.A_var.detach().numpy()\n",
    "\n",
    "b_mean = relu.linear.b_mean.detach().numpy()\n",
    "b_var = relu.linear.b_var.detach().numpy()\n",
    "\n",
    "class param():\n",
    "    def __init__(self, mean, var):\n",
    "        self.mean = mean\n",
    "        self.var = var\n",
    "        self.shape = mean.shape\n",
    "\n",
    "A = param(A_mean, A_var)\n",
    "b = param(b_mean, b_var)"
   ]
  },
  {
   "cell_type": "code",
   "execution_count": 12,
   "metadata": {},
   "outputs": [],
   "source": [
    "ans = linear_relu(param(inp[0].detach().numpy(), inp[1].detach().numpy()), A, b)"
   ]
  },
  {
   "cell_type": "code",
   "execution_count": 13,
   "metadata": {},
   "outputs": [
    {
     "data": {
      "text/plain": [
       "<tf.Tensor: id=35, shape=(1, 3), dtype=float32, numpy=array([[ 0.681599 , -1.882401 , -0.9250962]], dtype=float32)>"
      ]
     },
     "execution_count": 13,
     "metadata": {},
     "output_type": "execute_result"
    }
   ],
   "source": [
    "ans[0]"
   ]
  },
  {
   "cell_type": "code",
   "execution_count": 14,
   "metadata": {},
   "outputs": [
    {
     "data": {
      "text/plain": [
       "<tf.Tensor: id=116, shape=(1, 3, 3), dtype=float32, numpy=\n",
       "array([[[ 3.3855083e+01, -6.5270990e-02, -2.2865180e-02],\n",
       "        [-6.8984307e-02,  4.0165447e+01,  5.7749651e-02],\n",
       "        [-2.7097866e-02,  6.3768245e-02,  3.9442703e+01]]], dtype=float32)>"
      ]
     },
     "execution_count": 14,
     "metadata": {},
     "output_type": "execute_result"
    }
   ],
   "source": [
    "ans[1]"
   ]
  },
  {
   "cell_type": "code",
   "execution_count": 22,
   "metadata": {},
   "outputs": [],
   "source": [
    "class HeavisideGaussian(nn.Module):\n",
    "    def __init__(self, in_features, out_features, certain=False,\n",
    "                 prior=\"DiagonalGaussian\"):\n",
    "        \"\"\"\n",
    "        Computes y = relu(x) * A.T + b\n",
    "\n",
    "        A and b are Gaussian random variables\n",
    "\n",
    "        :param in_features: input dimension\n",
    "        :param out_features: output dimension\n",
    "        :param certain:  if false, than x is equal to its mean and has no variance\n",
    "        :param prior:  prior type\n",
    "        \"\"\"\n",
    "\n",
    "        super().__init__()\n",
    "        self.linear = LinearGaussian(in_features, out_features, certain, prior)\n",
    "        self.certain = certain\n",
    "    \n",
    "    def compute_kl(self):\n",
    "        return self.linear.compute_kl()\n",
    "    \n",
    "    def determenistic(self, mode=True):\n",
    "        self.linear.use_dvi = True\n",
    "    \n",
    "    def mcvi(self, mode=True):\n",
    "        self.linear.use_dvi = not mode\n",
    "        \n",
    "    def forward(self, x):\n",
    "        x_mean = x[0]\n",
    "        x_var = x[1]\n",
    "        \n",
    "        x_var_diag = matrix_diag_part(x_var)\n",
    "        \n",
    "        sqrt_x_var_diag = torch.sqrt(x_var_diag)\n",
    "        mu = x_mean / (sqrt_x_var_diag + EPS)\n",
    "        \n",
    "        z_mean = gaussian_cdf(mu)\n",
    "        z_var = self.compute_var(x_var, x_var_diag, mu)\n",
    "        return self.linear((z_mean, z_var))\n",
    "        \n",
    "    \n",
    "    def compute_var(self, x_var, x_var_diag, mu):\n",
    "        mu1 = torch.unsqueeze(mu, 2)\n",
    "        mu2 = mu1.permute(0, 2, 1)\n",
    "        \n",
    "        s11s22 = torch.unsqueeze(x_var_diag, dim=2) * torch.unsqueeze(x_var_diag, dim=1)\n",
    "        rho = x_var / torch.sqrt(s11s22)\n",
    "        rho = torch.clamp(rho, -1/(1 + 1e-6), 1/(1 + 1e-6))\n",
    "        return heaviside_q(rho, mu1, mu2)\n",
    "        \n",
    "    \n",
    "    def get_mode(self):\n",
    "        if self.linear.use_dvi:\n",
    "            print('Using determenistic mode')\n",
    "        else:\n",
    "            print('Using MCVI')"
   ]
  },
  {
   "cell_type": "code",
   "execution_count": 23,
   "metadata": {},
   "outputs": [],
   "source": [
    "\n",
    "def standard_gaussian(x):\n",
    "    return torch.exp(-1 / 2 * x * x) / np.sqrt(2 * math.pi)\n",
    "\n",
    "\n",
    "def gaussian_cdf(x):\n",
    "    const = 1 / np.sqrt(2)\n",
    "    return 0.5 * (1 + torch.erf(x * const))\n",
    "\n",
    "\n",
    "def softrelu(x):\n",
    "    return standard_gaussian(x) + x * gaussian_cdf(x)\n",
    "\n",
    "\n",
    "def heaviside_q(rho, mu1, mu2):\n",
    "    \"\"\"\n",
    "    Compute exp ( -Q(rho, mu1, mu2) ) for Heaviside activation\n",
    "\n",
    "    \"\"\"\n",
    "    rho_hat = torch.sqrt(1 - rho * rho)\n",
    "    arcsin = torch.asin(rho)\n",
    "\n",
    "    rho_s = torch.abs(rho) + EPS\n",
    "    arcsin_s = torch.abs(torch.asin(rho)) + EPS/2 \n",
    "    \n",
    "    A = arcsin / (2 * math.pi)\n",
    "    one_over_coef_sum = (2 * arcsin_s * rho_hat) / rho_s\n",
    "    one_over_coefs_prod = (arcsin_s * rho_hat * (1 + rho_hat)) / (rho * rho)\n",
    "    return A * torch.exp( -(mu1 * mu1 + mu2 * mu2) / one_over_coef_sum + mu1 * mu2 / one_over_coefs_prod)\n"
   ]
  },
  {
   "cell_type": "code",
   "execution_count": 175,
   "metadata": {},
   "outputs": [],
   "source": [
    "#inp = (torch.randn(1, 2), torch.abs(torch.randn(1, 2, 2)))"
   ]
  },
  {
   "cell_type": "code",
   "execution_count": 24,
   "metadata": {},
   "outputs": [
    {
     "data": {
      "text/plain": [
       "(tensor([[-0.6090, -0.8820,  0.7017]], grad_fn=<AddBackward0>),\n",
       " tensor([[[ 9.4264, -0.0645,  0.0710],\n",
       "          [-0.0644,  7.1350, -0.0980],\n",
       "          [ 0.0710, -0.0980,  4.8127]]], grad_fn=<AsStridedBackward>))"
      ]
     },
     "execution_count": 24,
     "metadata": {},
     "output_type": "execute_result"
    }
   ],
   "source": [
    "heav = HeavisideGaussian(in_features=2, out_features=3)\n",
    "heav(inp)"
   ]
  },
  {
   "cell_type": "code",
   "execution_count": 30,
   "metadata": {},
   "outputs": [
    {
     "data": {
      "text/plain": [
       "<tf.Tensor: id=221, shape=(1, 3), dtype=float32, numpy=array([[-0.60896283, -0.88199776,  0.70169187]], dtype=float32)>"
      ]
     },
     "execution_count": 30,
     "metadata": {},
     "output_type": "execute_result"
    }
   ],
   "source": [
    "ans[0]"
   ]
  },
  {
   "cell_type": "code",
   "execution_count": 31,
   "metadata": {},
   "outputs": [
    {
     "data": {
      "text/plain": [
       "<tf.Tensor: id=290, shape=(1, 3, 3), dtype=float32, numpy=\n",
       "array([[[ 9.426151  , -0.06442882,  0.07099799],\n",
       "        [-0.06441835,  7.1345396 , -0.09795044],\n",
       "        [ 0.07099719, -0.09796521,  4.8122907 ]]], dtype=float32)>"
      ]
     },
     "execution_count": 31,
     "metadata": {},
     "output_type": "execute_result"
    }
   ],
   "source": [
    "ans[1]"
   ]
  },
  {
   "cell_type": "code",
   "execution_count": 25,
   "metadata": {},
   "outputs": [],
   "source": [
    "A_mean = heav.linear.A_mean.detach().numpy()\n",
    "A_var = heav.linear.A_var.detach().numpy()\n",
    "\n",
    "b_mean = heav.linear.b_mean.detach().numpy()\n",
    "b_var = heav.linear.b_var.detach().numpy()\n",
    "\n",
    "class param():\n",
    "    def __init__(self, mean, var):\n",
    "        self.mean = mean\n",
    "        self.var = var\n",
    "        self.shape = mean.shape\n",
    "\n",
    "A = param(A_mean, A_var)\n",
    "b = param(b_mean, b_var)"
   ]
  },
  {
   "cell_type": "code",
   "execution_count": 26,
   "metadata": {},
   "outputs": [],
   "source": [
    "pi = tf.constant(np.pi, dtype=tf.float32)\n",
    "sqrt2 = tf.constant(np.sqrt(2.0), dtype=tf.float32)\n",
    "twopi = tf.constant(2.0 * np.pi, dtype=tf.float32)\n",
    "sqrt2pi = tf.constant(np.sqrt(2.0 * np.pi), dtype=tf.float32)\n",
    "one_ovr_sqrt2pi = tf.constant(1.0 / np.sqrt(2.0 * np.pi), dtype=tf.float32)\n",
    "one_ovr_sqrt2 = tf.constant(1.0 / np.sqrt(2.0), dtype=tf.float32)\n",
    "log2pi = tf.constant(np.log(2.0 * np.pi), dtype=tf.float32)\n",
    "EPSILON = tf.constant(1e-6)\n",
    "HALF_EPSILON = EPSILON / 2.0\n",
    "\n",
    "def standard_gaussian(x):\n",
    "    return one_ovr_sqrt2pi * tf.exp(-x*x / 2.0)\n",
    "\n",
    "def gaussian_cdf(x):\n",
    "    return 0.5 * (1.0 + tf.erf(x * one_ovr_sqrt2))\n",
    "\n",
    "def softrelu(x):\n",
    "    return standard_gaussian(x) + x * gaussian_cdf(x)\n",
    "\n",
    "\n",
    "## exp ( - Q(rho, mu1, mu2)) для Heaviside nonlinearity\n",
    "def heavy_g(rho, mu1, mu2):\n",
    "    sqrt_one_minus_rho_sqr = tf.sqrt(1.0 - rho*rho)\n",
    "    a = tf.asin(rho)\n",
    "    \n",
    "    safe_a = tf.abs(a) + HALF_EPSILON\n",
    "    safe_rho = tf.abs(rho) + EPSILON\n",
    "\n",
    "    A = a / twopi\n",
    "    sxx = safe_a * sqrt_one_minus_rho_sqr / safe_rho\n",
    "    sxy = safe_a * sqrt_one_minus_rho_sqr * (1 + sqrt_one_minus_rho_sqr) / (rho * rho)\n",
    "    return A * tf.exp(-(mu1*mu1 + mu2*mu2) / (2.0 * sxx) + mu1*mu2/sxy)\n",
    "\n",
    "\n",
    "def linear_heaviside(x, A, b):\n",
    "    \"\"\"\n",
    "    compute y = heaviside(x)^T A + b\n",
    "    \"\"\"\n",
    "    x_var_diag = tf.matrix_diag_part(x.var)\n",
    "    mu = x.mean / (tf.sqrt(x_var_diag) + EPSILON)\n",
    "    \n",
    "    def heaviside_covariance(x):\n",
    "        mu1 = tf.expand_dims(mu, 2)\n",
    "        mu2 = tf.transpose(mu1, [0,2,1])\n",
    "\n",
    "        s11s22 = tf.expand_dims(x_var_diag, axis=2) * tf.expand_dims(x_var_diag, axis=1)\n",
    "        rho = x.var / (tf.sqrt(s11s22))# + EPSILON)\n",
    "        rho = tf.clip_by_value(rho, -1/(1+EPSILON), 1/(1+EPSILON))\n",
    "        return heavy_g(rho, mu1, mu2)\n",
    "    \n",
    "    z_mean = bu.gaussian_cdf(mu)\n",
    "    y_mean = tf.matmul(z_mean, A.mean) + b.mean\n",
    "    z_cov = heaviside_covariance(x)\n",
    "    y_cov = linear_covariance(z_mean, z_cov, A, b)\n",
    "    return y_mean, y_cov\n"
   ]
  },
  {
   "cell_type": "code",
   "execution_count": 27,
   "metadata": {},
   "outputs": [],
   "source": [
    "ans = linear_heaviside(param(inp[0].detach().numpy(), inp[1].detach().numpy()), A, b)"
   ]
  },
  {
   "cell_type": "code",
   "execution_count": 28,
   "metadata": {},
   "outputs": [
    {
     "data": {
      "text/plain": [
       "<tf.Tensor: id=221, shape=(1, 3), dtype=float32, numpy=array([[-0.60896283, -0.88199776,  0.70169187]], dtype=float32)>"
      ]
     },
     "execution_count": 28,
     "metadata": {},
     "output_type": "execute_result"
    }
   ],
   "source": [
    "ans[0]"
   ]
  },
  {
   "cell_type": "code",
   "execution_count": 29,
   "metadata": {},
   "outputs": [
    {
     "data": {
      "text/plain": [
       "<tf.Tensor: id=290, shape=(1, 3, 3), dtype=float32, numpy=\n",
       "array([[[ 9.426151  , -0.06442882,  0.07099799],\n",
       "        [-0.06441835,  7.1345396 , -0.09795044],\n",
       "        [ 0.07099719, -0.09796521,  4.8122907 ]]], dtype=float32)>"
      ]
     },
     "execution_count": 29,
     "metadata": {},
     "output_type": "execute_result"
    }
   ],
   "source": [
    "ans[1]"
   ]
  },
  {
   "cell_type": "markdown",
   "metadata": {},
   "source": [
    "# Classification Loss"
   ]
  },
  {
   "cell_type": "code",
   "execution_count": 4,
   "metadata": {},
   "outputs": [],
   "source": [
    "import torch"
   ]
  },
  {
   "cell_type": "code",
   "execution_count": 5,
   "metadata": {},
   "outputs": [],
   "source": [
    "def logsumexp_mean(y):\n",
    "    \"\"\"\n",
    "    Compute <logsumexp(y)>\n",
    "    :param y: tuple of (y_mean, y_var)\n",
    "    y_mean dim [batch_size, hid_dim]\n",
    "    y_var dim  [batch_size, hid_dim, hid_dim]\n",
    "    :return:\n",
    "    \"\"\"\n",
    "    y_mean = y[0]\n",
    "    y_var = y[1]\n",
    "    logsumexp = F.log_softmax(y_mean, dim=-1)\n",
    "    p = torch.exp(y_mean - logsumexp)\n",
    "\n",
    "    pTdiagVar = torch.sum(p * matrix_diag_part(y_var), dim=-1)\n",
    "    pTVarp = torch.squeeze(torch.mn(torch.unsqueeze(p, 1), torch.mn(y_var, torch.unsqueeze(p, 2))), dim=-1)\n",
    "    return logsumexp + 0.5 * (pTdiagVar - pTVarp)\n",
    "\n",
    "\n",
    "def logsoftmax_mean(y):\n",
    "    \"\"\"\n",
    "    Compute <logsoftmax(y)>\n",
    "    :param y:\n",
    "    :param y: tuple of (y_mean, y_var)\n",
    "    y_mean dim [batch_size, hid_dim]\n",
    "    y_var dim  [batch_size, hid_dim, hid_dim]\n",
    "    \"\"\"\n",
    "    return y[0] - logsumexp_mean(y)\n",
    "\n",
    "\n",
    "def forward(self, logits, target, model, step):\n",
    "    \"\"\"\n",
    "    Compute <log p(y | D)> - kl\n",
    "    :param logits: shape [batch_size, n_classes]\n",
    "    :param target: shape [batch_size, n_classes] -- one-hot target\n",
    "    :param model:\n",
    "    :param step:\n",
    "    :return:\n",
    "        total loss\n",
    "        batch_logprob term\n",
    "        total kl term\n",
    "    \"\"\"\n",
    "    logsoftmax = logsoftmax_mean(logits)\n",
    "\n",
    "    logprob = torch.sum(target * logsoftmax, axis=1)\n",
    "    batch_logprob = torch.mean(logprob)\n",
    "\n",
    "    return batch_logprob"
   ]
  },
  {
   "cell_type": "code",
   "execution_count": 6,
   "metadata": {},
   "outputs": [],
   "source": [
    "def logsumexp(y, keepdims=False):\n",
    "    \"\"\"\n",
    "    compute <logsumexp(y)>\n",
    "    \"\"\"\n",
    "    lse = tf.reduce_logsumexp(y.mean, axis=-1, keep_dims=keepdims)   # [b, 1]\n",
    "    p = tf.exp(y.mean - lse)  # softmax                              # [b, y]\n",
    "    pTDiagVar = tf.reduce_sum(p * tf.matrix_diag_part(y.var), axis=-1, keep_dims=keepdims)        # [b, 1]\n",
    "    pTVarp = tf.squeeze(tf.matmul(tf.expand_dims(p, 1), tf.matmul(y.var, tf.expand_dims(p, 2))), axis=-1) # [b]\n",
    "    return lse + 0.5 * (pTDiagVar - pTVarp)\n",
    "\n",
    "def logsoftmax(y):\n",
    "    \"\"\"\n",
    "    compute <logsoftmax(y)>\n",
    "    \"\"\"\n",
    "    return y.mean - logsumexp(y, keepdims=True) # [b, y]\n",
    "\n",
    "def categorical_loss(logits, target, model, hypers, global_step, MC_samples=-1):\n",
    "    \"\"\"\n",
    "    compute <p(D|w)>_q - lambda KL(q || p)\n",
    "    \"\"\"\n",
    "    lsm = logsoftmax(logits)                      # we evaluate the logsoftmax using the delta approx\n",
    "\n",
    "\n",
    "    logprob = tf.reduce_sum(target * lsm, axis=1)\n",
    "    batch_logprob = tf.reduce_mean(logprob)\n",
    "\n",
    "    return batch_logprob\n"
   ]
  },
  {
   "cell_type": "code",
   "execution_count": 7,
   "metadata": {},
   "outputs": [],
   "source": [
    "class param():\n",
    "    def __init__(self, mean, var):\n",
    "        self.mean = mean\n",
    "        self.var = var\n",
    "        self.shape = mean.shape"
   ]
  },
  {
   "cell_type": "code",
   "execution_count": 8,
   "metadata": {},
   "outputs": [],
   "source": [
    "x = np.array([[0.5, 0.1, 0, -1], [0.3, 0.3, -10, 1]])"
   ]
  },
  {
   "cell_type": "code",
   "execution_count": null,
   "metadata": {},
   "outputs": [],
   "source": []
  }
 ],
 "metadata": {
  "kernelspec": {
   "display_name": "Python 3",
   "language": "python",
   "name": "python3"
  }
 },
 "nbformat": 4,
 "nbformat_minor": 2
}
