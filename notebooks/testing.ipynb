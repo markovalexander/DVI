{
 "cells": [
  {
   "cell_type": "code",
   "execution_count": 197,
   "metadata": {},
   "outputs": [],
   "source": [
    "import numpy as np\n",
    "\n",
    "import torch\n",
    "import torch.nn as nn\n",
    "import torch.nn.functional as F\n",
    "\n",
    "import matplotlib.pyplot as plt"
   ]
  },
  {
   "cell_type": "code",
   "execution_count": 198,
   "metadata": {},
   "outputs": [],
   "source": [
    "def toy_results_plot(data, data_generator=None, hypers=None, predictions=None):   \n",
    "    train_x = np.arange(np.min(data[0][0].reshape(-1)),\n",
    "                        np.max(data[0][0].reshape(-1)), 1/100)\n",
    "    \n",
    "    # plot the training data distribution\n",
    "    if data_generator is not None:\n",
    "        plt.plot(train_x, data_generator['mean'](train_x), 'red', label='data mean')\n",
    "        plt.fill_between(train_x,\n",
    "                         data_generator['mean'](train_x) - data_generator['std'](train_x),\n",
    "                         data_generator['mean'](train_x) + data_generator['std'](train_x),\n",
    "                         color='orange', alpha=1, label='data 1-std')\n",
    "    plt.plot(data[0][0], data[0][1], 'r.', alpha=0.2, label='train sampl')\n",
    "\n",
    "    # plot the model distribution\n",
    "    if predictions is not None:\n",
    "        x = predictions[0]\n",
    "        y_mean   = predictions[1]['mean'][:,0]\n",
    "        ell_mean = predictions[1]['mean'][:,1]\n",
    "        y_var    = predictions[1]['cov'][:,0,0]\n",
    "        ell_var  = predictions[1]['cov'][:,1,1]\n",
    "        \n",
    "        if hypers['style'] != 'heteroskedastic':\n",
    "            ell_mean = hypers[\"homo_logvar_scale\"]\n",
    "            ell_var = 0\n",
    "\n",
    "        heteroskedastic_part = np.exp(0.5 * ell_mean)\n",
    "        full_std = np.sqrt(y_var + np.exp(ell_mean + 0.5 * ell_var))\n",
    "\n",
    "        plt.plot(x, y_mean, label='model mean')\n",
    "        plt.fill_between(x,\n",
    "                         y_mean - heteroskedastic_part,\n",
    "                         y_mean + heteroskedastic_part,\n",
    "                         color='g', alpha = 0.2, label='$\\ell$ contrib')\n",
    "        plt.fill_between(x,\n",
    "                         y_mean - full_std,\n",
    "                         y_mean + full_std,\n",
    "                         color='b', alpha = 0.2, label='model 1-std')\n",
    "        \n",
    "    plt.xlabel('x')\n",
    "    plt.ylabel('y')\n",
    "    plt.ylim([-3,2])\n",
    "    plt.legend()\n",
    "    plt.show()\n"
   ]
  },
  {
   "cell_type": "code",
   "execution_count": 221,
   "metadata": {
    "scrolled": true
   },
   "outputs": [
    {
     "data": {
      "image/png": "[encoded data removed]",
      "text/plain": [
       "<Figure size 432x288 with 1 Axes>"
      ]
     },
     "metadata": {
      "needs_background": "light"
     },
     "output_type": "display_data"
    }
   ],
   "source": [
    "def base_model(x):\n",
    "    return -(x+0.5)*np.sin(3 * np.pi *x)\n",
    "\n",
    "def noise_model(x):\n",
    "    return 0.45*(x+0.5)**2\n",
    "\n",
    "def sample_data(x):\n",
    "    return base_model(x) + np.random.normal(0, noise_model(x))\n",
    "\n",
    "data_size = {'train': 500, 'valid': 100, 'test': 100}\n",
    "toy_data = []\n",
    "\n",
    "for section in ['train', 'valid', 'test']:\n",
    "    x = (np.random.rand(data_size['train'], 1) - 0.5)\n",
    "    toy_data.append([x, sample_data(x).reshape(-1)]) \n",
    "    \n",
    "x = np.arange(-1, 1,  1/100)\n",
    "toy_data.append([[[_] for _ in x], base_model(x)])\n",
    "\n",
    "toy_results_plot(toy_data, {'mean':base_model, 'std':noise_model})"
   ]
  },
  {
   "cell_type": "code",
   "execution_count": 274,
   "metadata": {},
   "outputs": [],
   "source": [
    "def matrix_diag_part(tensor):\n",
    "    return torch.stack(tuple(t.diag() for t in torch.unbind(tensor,0)))"
   ]
  },
  {
   "cell_type": "code",
   "execution_count": 366,
   "metadata": {},
   "outputs": [],
   "source": [
    "class LinearGaussian(nn.Module):\n",
    "    def __init__(self, in_dim, out_dim, certain=False, prior=None):\n",
    "        \n",
    "        super().__init__()\n",
    "        \n",
    "        self.A_mean = nn.Parameter(torch.Tensor(in_dim, out_dim))\n",
    "        self.b_mean = nn.Parameter(torch.Tensor(out_dim))\n",
    "        self.certain = certain\n",
    "        \n",
    "        self.A_var = nn.Parameter(torch.Tensor(in_dim, out_dim))\n",
    "        self.b_var = nn.Parameter(torch.Tensor(out_dim))\n",
    "        \n",
    "        self.__initialize_weights()\n",
    "        \n",
    "    \n",
    "    def __initialize_weights(self):\n",
    "        nn.init.zeros_(self.A_mean)\n",
    "        nn.init.zeros_(self.b_mean)\n",
    "        nn.init.xavier_normal_(self.A_var)\n",
    "        nn.init.normal_(self.b_var)\n",
    "\n",
    "        \n",
    "    def forward(self, x):\n",
    "        \n",
    "        if self.certain:\n",
    "            x_mean = x\n",
    "            x_var = None\n",
    "        else:\n",
    "            x_mean = x[0]\n",
    "            x_var = x[1]\n",
    "        \n",
    "        y_mean = F.linear(x_mean, self.A_mean.t()) + self.b_mean\n",
    "        \n",
    "        if self.certain:\n",
    "            xx = x_mean * x_mean\n",
    "            y_var = torch.diag_embed(F.linear(xx, self.A_var.t()) + self.b_var)\n",
    "        else:\n",
    "            y_var = self.compute_var(x_mean, x_var)\n",
    "        \n",
    "        return (y_mean, y_var)      \n",
    "\n",
    "    def compute_var(self, x_mean, x_var):\n",
    "        x_var_diag = matrix_diag_part(x_var)\n",
    "        xx_mean = x_var_diag + x_mean * x_mean\n",
    "        \n",
    "        term1_diag = torch.matmul(xx_mean, self.A_var)\n",
    "        \n",
    "        flat_xCov = torch.reshape(x_var, (-1, self.A_mean.size(0)))  # [b*x, x]\n",
    "        xCov_A = torch.matmul(flat_xCov, self.A_mean)  # [b * x, y]\n",
    "        xCov_A = torch.reshape(xCov_A, (-1, self.A_mean.size(0), self.A_mean.size(1))) # [b, x, y]\n",
    "        xCov_A = torch.transpose(xCov_A, 1, 2)  # [b, y, x]\n",
    "        xCov_A = torch.reshape(xCov_A, (-1, self.A_mean.size(0)))  # [b*y, x]\n",
    "        \n",
    "        A_xCov_A = torch.matmul(xCov_A, self.A_mean)  # [b*y, y]\n",
    "        A_xCov_A = torch.reshape(A_xCov_A, (-1, self.A_mean.size(1), self.A_mean.size(1)))  # [b, y, y]\n",
    "        \n",
    "        term2 = A_xCov_A\n",
    "        term2_diag = matrix_diag_part(term2)\n",
    "        \n",
    "        term3_diag = self.b_var\n",
    "        result_diag = term1_diag + term2_diag + term3_diag\n",
    "        return torch.diag_embed(result_diag)"
   ]
  },
  {
   "cell_type": "code",
   "execution_count": 367,
   "metadata": {},
   "outputs": [],
   "source": [
    "reg = LinearGaussian(1, 2, certain=True)"
   ]
  },
  {
   "cell_type": "code",
   "execution_count": 368,
   "metadata": {},
   "outputs": [
    {
     "data": {
      "text/plain": [
       "torch.Size([500, 1])"
      ]
     },
     "execution_count": 368,
     "metadata": {},
     "output_type": "execute_result"
    }
   ],
   "source": [
    "x_train.shape"
   ]
  },
  {
   "cell_type": "code",
   "execution_count": 369,
   "metadata": {},
   "outputs": [],
   "source": [
    "yy = reg(x_train)"
   ]
  },
  {
   "cell_type": "code",
   "execution_count": 370,
   "metadata": {},
   "outputs": [
    {
     "data": {
      "text/plain": [
       "tensor([0., 0.], grad_fn=<SelectBackward>)"
      ]
     },
     "execution_count": 370,
     "metadata": {},
     "output_type": "execute_result"
    }
   ],
   "source": [
    "yy[0][0]"
   ]
  },
  {
   "cell_type": "code",
   "execution_count": 375,
   "metadata": {
    "scrolled": true
   },
   "outputs": [
    {
     "data": {
      "text/plain": [
       "(torch.Size([500, 2]), torch.Size([500, 2, 2]))"
      ]
     },
     "execution_count": 375,
     "metadata": {},
     "output_type": "execute_result"
    }
   ],
   "source": [
    "yy[0].shape, yy[1].shape"
   ]
  },
  {
   "cell_type": "code",
   "execution_count": 376,
   "metadata": {},
   "outputs": [],
   "source": [
    "reg = nn.Sequential(\n",
    "    LinearGaussian(1, 2, certain=True),\n",
    "    LinearGaussian(2, 1)\n",
    ")"
   ]
  },
  {
   "cell_type": "code",
   "execution_count": 377,
   "metadata": {},
   "outputs": [],
   "source": [
    "yy = reg(x_train)"
   ]
  },
  {
   "cell_type": "code",
   "execution_count": 378,
   "metadata": {},
   "outputs": [
    {
     "data": {
      "text/plain": [
       "torch.Size([500, 1, 1])"
      ]
     },
     "execution_count": 378,
     "metadata": {},
     "output_type": "execute_result"
    }
   ],
   "source": [
    "yy[1].shape"
   ]
  },
  {
   "cell_type": "code",
   "execution_count": 379,
   "metadata": {},
   "outputs": [
    {
     "data": {
      "text/plain": [
       "(torch.Size([500, 1]), torch.Size([500, 1, 1]))"
      ]
     },
     "execution_count": 379,
     "metadata": {},
     "output_type": "execute_result"
    }
   ],
   "source": [
    "yy[0].shape, yy[1].shape"
   ]
  },
  {
   "cell_type": "code",
   "execution_count": 256,
   "metadata": {},
   "outputs": [],
   "source": [
    "class Regressor(nn.Module):\n",
    "    def __init__(self):\n",
    "        super().__init__()\n",
    "        self.linear1 = nn.Linear(1, 5)\n",
    "        self.linear2 = nn.Linear(5, 5)\n",
    "        self.linear3 = nn.Linear(5, 5)\n",
    "        self.linear4 = nn.Linear(5, 1)\n",
    "    \n",
    "    def forward(self, x):\n",
    "        x = self.linear2(F.leaky_relu(self.linear1(x)))\n",
    "        x = self.linear4(F.leaky_relu(self.linear3(x)))\n",
    "        return x"
   ]
  },
  {
   "cell_type": "code",
   "execution_count": 257,
   "metadata": {},
   "outputs": [],
   "source": [
    "model = Regressor()"
   ]
  },
  {
   "cell_type": "code",
   "execution_count": 258,
   "metadata": {},
   "outputs": [],
   "source": [
    "x_train, y_train = toy_data[0][0], toy_data[0][1]"
   ]
  },
  {
   "cell_type": "code",
   "execution_count": 259,
   "metadata": {},
   "outputs": [],
   "source": [
    "x_train = torch.FloatTensor(x_train)\n",
    "y_train = torch.FloatTensor(y_train)"
   ]
  },
  {
   "cell_type": "code",
   "execution_count": 260,
   "metadata": {},
   "outputs": [],
   "source": [
    "optim = torch.optim.Adam(model.parameters())"
   ]
  },
  {
   "cell_type": "code",
   "execution_count": 261,
   "metadata": {},
   "outputs": [],
   "source": [
    "mse = nn.M()"
   ]
  },
  {
   "cell_type": "code",
   "execution_count": 262,
   "metadata": {},
   "outputs": [],
   "source": [
    "from IPython.display import clear_output"
   ]
  },
  {
   "cell_type": "code",
   "execution_count": 263,
   "metadata": {},
   "outputs": [
    {
     "data": {
      "image/png": "[encoded data removed]",
      "text/plain": [
       "<Figure size 432x288 with 1 Axes>"
      ]
     },
     "metadata": {
      "needs_background": "light"
     },
     "output_type": "display_data"
    },
    {
     "name": "stdout",
     "output_type": "stream",
     "text": [
      "epoch: 1001, train loss : 0.225360\n",
      "epoch: 1101, train loss : 0.225359\n",
      "epoch: 1201, train loss : 0.225359\n",
      "epoch: 1301, train loss : 0.225359\n",
      "epoch: 1401, train loss : 0.225359\n"
     ]
    },
    {
     "ename": "KeyboardInterrupt",
     "evalue": "",
     "output_type": "error",
     "traceback": [
      "\u001b[0;31m---------------------------------------------------------------------------\u001b[0m",
      "\u001b[0;31mKeyboardInterrupt\u001b[0m                         Traceback (most recent call last)",
      "\u001b[0;32m<ipython-input-263-f517ba434455>\u001b[0m in \u001b[0;36m<module>\u001b[0;34m\u001b[0m\n\u001b[1;32m      6\u001b[0m \u001b[0;34m\u001b[0m\u001b[0m\n\u001b[1;32m      7\u001b[0m     \u001b[0moptim\u001b[0m\u001b[0;34m.\u001b[0m\u001b[0mzero_grad\u001b[0m\u001b[0;34m(\u001b[0m\u001b[0;34m)\u001b[0m\u001b[0;34m\u001b[0m\u001b[0m\n\u001b[0;32m----> 8\u001b[0;31m     \u001b[0mloss\u001b[0m\u001b[0;34m.\u001b[0m\u001b[0mbackward\u001b[0m\u001b[0;34m(\u001b[0m\u001b[0;34m)\u001b[0m\u001b[0;34m\u001b[0m\u001b[0m\n\u001b[0m\u001b[1;32m      9\u001b[0m     \u001b[0moptim\u001b[0m\u001b[0;34m.\u001b[0m\u001b[0mstep\u001b[0m\u001b[0;34m(\u001b[0m\u001b[0;34m)\u001b[0m\u001b[0;34m\u001b[0m\u001b[0m\n\u001b[1;32m     10\u001b[0m \u001b[0;34m\u001b[0m\u001b[0m\n",
      "\u001b[0;32m~/.local/lib/python3.5/site-packages/torch/tensor.py\u001b[0m in \u001b[0;36mbackward\u001b[0;34m(self, gradient, retain_graph, create_graph)\u001b[0m\n\u001b[1;32m    105\u001b[0m                 \u001b[0mproducts\u001b[0m\u001b[0;34m.\u001b[0m \u001b[0mDefaults\u001b[0m \u001b[0mto\u001b[0m\u001b[0;31m \u001b[0m\u001b[0;31m`\u001b[0m\u001b[0;31m`\u001b[0m\u001b[0;32mFalse\u001b[0m\u001b[0;31m`\u001b[0m\u001b[0;31m`\u001b[0m\u001b[0;34m.\u001b[0m\u001b[0;34m\u001b[0m\u001b[0m\n\u001b[1;32m    106\u001b[0m         \"\"\"\n\u001b[0;32m--> 107\u001b[0;31m         \u001b[0mtorch\u001b[0m\u001b[0;34m.\u001b[0m\u001b[0mautograd\u001b[0m\u001b[0;34m.\u001b[0m\u001b[0mbackward\u001b[0m\u001b[0;34m(\u001b[0m\u001b[0mself\u001b[0m\u001b[0;34m,\u001b[0m \u001b[0mgradient\u001b[0m\u001b[0;34m,\u001b[0m \u001b[0mretain_graph\u001b[0m\u001b[0;34m,\u001b[0m \u001b[0mcreate_graph\u001b[0m\u001b[0;34m)\u001b[0m\u001b[0;34m\u001b[0m\u001b[0m\n\u001b[0m\u001b[1;32m    108\u001b[0m \u001b[0;34m\u001b[0m\u001b[0m\n\u001b[1;32m    109\u001b[0m     \u001b[0;32mdef\u001b[0m \u001b[0mregister_hook\u001b[0m\u001b[0;34m(\u001b[0m\u001b[0mself\u001b[0m\u001b[0;34m,\u001b[0m \u001b[0mhook\u001b[0m\u001b[0;34m)\u001b[0m\u001b[0;34m:\u001b[0m\u001b[0;34m\u001b[0m\u001b[0m\n",
      "\u001b[0;32m~/.local/lib/python3.5/site-packages/torch/autograd/__init__.py\u001b[0m in \u001b[0;36mbackward\u001b[0;34m(tensors, grad_tensors, retain_graph, create_graph, grad_variables)\u001b[0m\n\u001b[1;32m     91\u001b[0m     Variable._execution_engine.run_backward(\n\u001b[1;32m     92\u001b[0m         \u001b[0mtensors\u001b[0m\u001b[0;34m,\u001b[0m \u001b[0mgrad_tensors\u001b[0m\u001b[0;34m,\u001b[0m \u001b[0mretain_graph\u001b[0m\u001b[0;34m,\u001b[0m \u001b[0mcreate_graph\u001b[0m\u001b[0;34m,\u001b[0m\u001b[0;34m\u001b[0m\u001b[0m\n\u001b[0;32m---> 93\u001b[0;31m         allow_unreachable=True)  # allow_unreachable flag\n\u001b[0m\u001b[1;32m     94\u001b[0m \u001b[0;34m\u001b[0m\u001b[0m\n\u001b[1;32m     95\u001b[0m \u001b[0;34m\u001b[0m\u001b[0m\n",
      "\u001b[0;31mKeyboardInterrupt\u001b[0m: "
     ]
    }
   ],
   "source": [
    "epochs = 20000\n",
    "for epoch in range(epochs):\n",
    "    model.train()\n",
    "    y_ans = model(x_train)\n",
    "    loss = mse(y_ans, y_train)\n",
    "    \n",
    "    optim.zero_grad()\n",
    "    loss.backward()\n",
    "    optim.step()\n",
    "    \n",
    "    if epoch % 100 == 0:\n",
    "        if epoch % 1000 == 0:\n",
    "            clear_output()            \n",
    "            model.eval()\n",
    "            \n",
    "            x = toy_data[1][0]\n",
    "            y_true = toy_data[1][1]\n",
    "            y_pred = model(torch.FloatTensor(x))\n",
    "            \n",
    "            plt.figure()\n",
    "            toy_results_plot([[x, y_pred.detach().numpy()]], {'mean':base_model, 'std':noise_model})\n",
    "            \n",
    "        print(\"epoch: {}, train loss : {:.6f}\".format(epoch + 1, loss.item()))"
   ]
  },
  {
   "cell_type": "code",
   "execution_count": null,
   "metadata": {},
   "outputs": [],
   "source": [
    "x = toy_data[1][0]\n",
    "y_true = toy_data[1][1]\n",
    "\n",
    "y_pred = model(torch.FloatTensor(x))"
   ]
  },
  {
   "cell_type": "code",
   "execution_count": 255,
   "metadata": {},
   "outputs": [
    {
     "data": {
      "image/png": "[encoded data removed]",
      "text/plain": [
       "<Figure size 432x288 with 1 Axes>"
      ]
     },
     "metadata": {
      "needs_background": "light"
     },
     "output_type": "display_data"
    }
   ],
   "source": [
    "toy_results_plot([[x, y_pred.detach().numpy()]])"
   ]
  },
  {
   "cell_type": "code",
   "execution_count": 264,
   "metadata": {},
   "outputs": [],
   "source": [
    "from sklearn.linear_model import LinearRegression"
   ]
  },
  {
   "cell_type": "code",
   "execution_count": 265,
   "metadata": {},
   "outputs": [
    {
     "data": {
      "text/plain": [
       "LinearRegression(copy_X=True, fit_intercept=True, n_jobs=None,\n",
       "         normalize=False)"
      ]
     },
     "execution_count": 265,
     "metadata": {},
     "output_type": "execute_result"
    }
   ],
   "source": [
    "reg = LinearRegression()\n",
    "reg.fit(x, y_true)"
   ]
  },
  {
   "cell_type": "code",
   "execution_count": null,
   "metadata": {},
   "outputs": [],
   "source": []
  }
 ],
 "metadata": {
  "kernelspec": {
   "display_name": "Python 3",
   "language": "python",
   "name": "python3"
  },
  "language_info": {
   "codemirror_mode": {
    "name": "ipython",
    "version": 3
   },
   "file_extension": ".py",
   "mimetype": "text/x-python",
   "name": "python",
   "nbconvert_exporter": "python",
   "pygments_lexer": "ipython3",
   "version": "3.5.2"
  }
 },
 "nbformat": 4,
 "nbformat_minor": 2
}
