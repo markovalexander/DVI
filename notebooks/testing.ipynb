{
 "cells": [
  {
   "cell_type": "code",
   "execution_count": 28,
   "metadata": {},
   "outputs": [],
   "source": [
    "import numpy as np\n",
    "\n",
    "import torch\n",
    "import torch.nn as nn\n",
    "import torch.nn.functional as F\n",
    "\n",
    "import math\n",
    "import matplotlib.pyplot as plt"
   ]
  },
  {
   "cell_type": "code",
   "execution_count": 27,
   "metadata": {},
   "outputs": [],
   "source": [
    "EPS = 1e-8"
   ]
  },
  {
   "cell_type": "code",
   "execution_count": 3,
   "metadata": {},
   "outputs": [],
   "source": [
    "def toy_results_plot(data, data_generator=None, hypers=None, predictions=None):   \n",
    "    train_x = np.arange(np.min(data[0][0].reshape(-1)),\n",
    "                        np.max(data[0][0].reshape(-1)), 1/100)\n",
    "    \n",
    "    # plot the training data distribution\n",
    "    if data_generator is not None:\n",
    "        plt.plot(train_x, data_generator['mean'](train_x), 'red', label='data mean')\n",
    "        plt.fill_between(train_x,\n",
    "                         data_generator['mean'](train_x) - data_generator['std'](train_x),\n",
    "                         data_generator['mean'](train_x) + data_generator['std'](train_x),\n",
    "                         color='orange', alpha=1, label='data 1-std')\n",
    "    plt.plot(data[0][0], data[0][1], 'r.', alpha=0.2, label='train sampl')\n",
    "\n",
    "    # plot the model distribution\n",
    "    if predictions is not None:\n",
    "        x = predictions[0]\n",
    "        y_mean   = predictions[1]['mean'][:,0]\n",
    "        ell_mean = predictions[1]['mean'][:,1]\n",
    "        y_var    = predictions[1]['cov'][:,0,0]\n",
    "        ell_var  = predictions[1]['cov'][:,1,1]\n",
    "        \n",
    "        if hypers['style'] != 'heteroskedastic':\n",
    "            ell_mean = hypers[\"homo_logvar_scale\"]\n",
    "            ell_var = 0\n",
    "\n",
    "        heteroskedastic_part = np.exp(0.5 * ell_mean)\n",
    "        full_std = np.sqrt(y_var + np.exp(ell_mean + 0.5 * ell_var))\n",
    "\n",
    "        plt.plot(x, y_mean, label='model mean')\n",
    "        plt.fill_between(x,\n",
    "                         y_mean - heteroskedastic_part,\n",
    "                         y_mean + heteroskedastic_part,\n",
    "                         color='g', alpha = 0.2, label='$\\ell$ contrib')\n",
    "        plt.fill_between(x,\n",
    "                         y_mean - full_std,\n",
    "                         y_mean + full_std,\n",
    "                         color='b', alpha = 0.2, label='model 1-std')\n",
    "        \n",
    "    plt.xlabel('x')\n",
    "    plt.ylabel('y')\n",
    "    plt.ylim([-3,2])\n",
    "    plt.legend()\n",
    "    plt.show()\n"
   ]
  },
  {
   "cell_type": "code",
   "execution_count": 4,
   "metadata": {
    "scrolled": true
   },
   "outputs": [
    {
     "data": {
      "image/png": "[encoded data removed]",
      "text/plain": [
       "<Figure size 432x288 with 1 Axes>"
      ]
     },
     "metadata": {
      "needs_background": "light"
     },
     "output_type": "display_data"
    }
   ],
   "source": [
    "def base_model(x):\n",
    "    return -(x+0.5)*np.sin(3 * np.pi *x)\n",
    "\n",
    "def noise_model(x):\n",
    "    return 0.45*(x+0.5)**2\n",
    "\n",
    "def sample_data(x):\n",
    "    return base_model(x) + np.random.normal(0, noise_model(x))\n",
    "\n",
    "data_size = {'train': 500, 'valid': 100, 'test': 100}\n",
    "toy_data = []\n",
    "\n",
    "for section in ['train', 'valid', 'test']:\n",
    "    x = (np.random.rand(data_size['train'], 1) - 0.5)\n",
    "    toy_data.append([x, sample_data(x).reshape(-1)]) \n",
    "    \n",
    "x = np.arange(-1, 1,  1/100)\n",
    "toy_data.append([[[_] for _ in x], base_model(x)])\n",
    "\n",
    "toy_results_plot(toy_data, {'mean':base_model, 'std':noise_model})"
   ]
  },
  {
   "cell_type": "code",
   "execution_count": 10,
   "metadata": {},
   "outputs": [],
   "source": [
    "x_train = torch.FloatTensor(toy_data[0][0])\n",
    "y_train = torch.FloatTensor(toy_data[0][1])"
   ]
  },
  {
   "cell_type": "code",
   "execution_count": 5,
   "metadata": {},
   "outputs": [],
   "source": [
    "def matrix_diag_part(tensor):\n",
    "    return torch.stack(tuple(t.diag() for t in torch.unbind(tensor,0)))"
   ]
  },
  {
   "cell_type": "code",
   "execution_count": 34,
   "metadata": {},
   "outputs": [],
   "source": [
    "def KL_GG(p_mean, p_var, q_mean, q_var):\n",
    "    \"\"\"\n",
    "        Compute KL between two diagonal gaussians\n",
    "    \"\"\"\n",
    "    s_q_var = q_var + EPS\n",
    "    entropy = 0.5 * (1 + math.log(2 * math.pi) + torch.log(p_var))\n",
    "    cross_entropy = 0.5 * (math.log(2 * math.pi) + torch.log(s_q_var) + \\\n",
    "                          (p_var + (p_mean - q_mean)**2) / s_q_var)\n",
    "    return torch.sum(cross_entropy -  entropy)"
   ]
  },
  {
   "cell_type": "code",
   "execution_count": 40,
   "metadata": {},
   "outputs": [],
   "source": [
    "class LinearGaussian(nn.Module):\n",
    "    def __init__(self, in_dim, out_dim, certain=False, prior='DiagonalGaussian'):\n",
    "        \n",
    "        super().__init__()\n",
    "        \n",
    "        self.A_mean = nn.Parameter(torch.Tensor(in_dim, out_dim))\n",
    "        self.b_mean = nn.Parameter(torch.Tensor(out_dim))\n",
    "        self.certain = certain\n",
    "        \n",
    "        self.A_var = nn.Parameter(torch.Tensor(in_dim, out_dim))\n",
    "        self.b_var = nn.Parameter(torch.Tensor(out_dim))\n",
    "        \n",
    "        self.prior = prior\n",
    "        self.initialize_weights()\n",
    "        self.construct_priors(self.prior)\n",
    "        \n",
    "    \n",
    "    def initialize_weights(self):\n",
    "        nn.init.zeros_(self.A_mean)\n",
    "        nn.init.zeros_(self.b_mean)\n",
    "        \n",
    "        shape = self.b_var.size(0)\n",
    "        s = shape * shape\n",
    "        \n",
    "        nn.init.uniform_(self.A_var, a=0, b=s)\n",
    "        nn.init.uniform_(self.b_var, a=0, b=s)\n",
    "        \n",
    "    def construct_priors(self, prior):\n",
    "        if prior == \"DiagonalGaussian\":\n",
    "            s1 = 1\n",
    "            s2 = 1\n",
    "                        \n",
    "            self._prior_A = {'mean' : torch.zeros_like(self.A_mean, requires_grad=False),\n",
    "                             'var'  : torch.ones_like(self.A_var, requires_grad=False) * s2}\n",
    "            self._prior_b = {'mean' : torch.zeros_like(self.b_mean, requires_grad=False),\n",
    "                             'var'  : torch.ones_like(self.b_var, requires_grad=False) * s1}\n",
    "        else:\n",
    "            raise NotImplementedError(\"{} prior is not supported\".format(prior))\n",
    "    \n",
    "    def compute_kl(self):\n",
    "        if self.prior == 'DiagonalGaussian':\n",
    "            kl_A =  KL_GG(self.A_mean, self.A_var, self._prior_A['mean'], self._prior_A['var'])\n",
    "            kl_b =  KL_GG(self.b_mean, self.b_var, self._prior_b['mean'], self._prior_b['var'])\n",
    "        return kl_A + kl_b\n",
    "            \n",
    "    def forward(self, x):\n",
    "        \n",
    "        if self.certain:\n",
    "            x_mean = x\n",
    "            x_var = None\n",
    "        else:\n",
    "            x_mean = x[0]\n",
    "            x_var = x[1]\n",
    "        \n",
    "        y_mean = F.linear(x_mean, self.A_mean.t()) + self.b_mean\n",
    "        \n",
    "        if self.certain:\n",
    "            xx = x_mean * x_mean\n",
    "            y_var = torch.diag_embed(F.linear(xx, self.A_var.t()) + self.b_var)\n",
    "        else:\n",
    "            y_var = self.compute_var(x_mean, x_var)\n",
    "        \n",
    "        return (y_mean, y_var)      \n",
    "\n",
    "    def compute_var(self, x_mean, x_var):\n",
    "        x_var_diag = matrix_diag_part(x_var)\n",
    "        xx_mean = x_var_diag + x_mean * x_mean\n",
    "        \n",
    "        term1_diag = torch.matmul(xx_mean, self.A_var)\n",
    "        \n",
    "        flat_xCov = torch.reshape(x_var, (-1, self.A_mean.size(0)))  # [b*x, x]\n",
    "        xCov_A = torch.matmul(flat_xCov, self.A_mean)  # [b * x, y]\n",
    "        xCov_A = torch.reshape(xCov_A, (-1, self.A_mean.size(0), self.A_mean.size(1))) # [b, x, y]\n",
    "        xCov_A = torch.transpose(xCov_A, 1, 2)  # [b, y, x]\n",
    "        xCov_A = torch.reshape(xCov_A, (-1, self.A_mean.size(0)))  # [b*y, x]\n",
    "        \n",
    "        A_xCov_A = torch.matmul(xCov_A, self.A_mean)  # [b*y, y]\n",
    "        A_xCov_A = torch.reshape(A_xCov_A, (-1, self.A_mean.size(1), self.A_mean.size(1)))  # [b, y, y]\n",
    "        \n",
    "        term2 = A_xCov_A\n",
    "        term2_diag = matrix_diag_part(term2)\n",
    "        \n",
    "        term3_diag = self.b_var\n",
    "        result_diag = term1_diag + term2_diag + term3_diag\n",
    "        return torch.diag_embed(result_diag)"
   ]
  },
  {
   "cell_type": "code",
   "execution_count": 108,
   "metadata": {},
   "outputs": [],
   "source": [
    "class RegressionLoss(nn.Module):\n",
    "    def __init__(self, net, method='bayes', use_heteroskedastic=True, homo_log_var_scale=None):\n",
    "        super().__init__()\n",
    "        \n",
    "        self.net = net\n",
    "        self.method = method\n",
    "        self.use_het = use_heteroskedastic\n",
    "        if not self.use_het and homo_log_var_scale is None:\n",
    "            raise ValueError(\"homo_log_var_scale must be set in homoskedastic mode\")\n",
    "        \n",
    "        self.homo_log_var_scale = torch.FloatTensor([homo_log_var_scale])\n",
    "            \n",
    "    def gaussian_likelihood_core(self, target, mean, log_var, smm, sml, sll):\n",
    "        const = math.log(2 * math.pi)\n",
    "        exp = torch.exp(-log_var + 0.5 * sll)\n",
    "        return const + log_var + exp * (smm + (mean - sml - target) ** 2)\n",
    "    \n",
    "    def heteroskedastic_gaussian_loglikelihood(self, pred_mean, pred_var, target):\n",
    "        log_var = pred_mean[:, 1].view(-1)\n",
    "        mean = pred_mean[:, 0].view(-1)\n",
    "        \n",
    "        if self.method.lower() == 'bayes':\n",
    "            sll = pred_var[:, 1, 1].view(-1)\n",
    "            smm = pred_var[:, 0, 0].view(-1)\n",
    "            sml = pred_var[:, 0, 1].view(-1)\n",
    "        else:\n",
    "            sll = smm = sml = 0\n",
    "        return self.gaussian_likelihood_core(target, mean, log_var, smm, sml, sll)\n",
    "\n",
    "    def homoskedastic_gaussian_loglikelihood(self, pred_mean, pred_var, target):\n",
    "        log_var = self.homo_log_var_scale\n",
    "        mean = pred_mean[:, 0].view(-1)\n",
    "        sll = sml  = 0\n",
    "        if self.method.lower() == 'bayes':\n",
    "            smm = pred_var[:, 0, 0].view(-1)\n",
    "        else:\n",
    "            smm = 0\n",
    "        return self.gaussian_likelihood_core(target, mean, log_var, smm, sml, sll)\n",
    "    \n",
    "    def forward(self, pred, target):\n",
    "        pred_mean = pred[0]\n",
    "        pred_var = pred[1]\n",
    "        \n",
    "        assert not target.requires_grad\n",
    "        kl = 0.0\n",
    "        for module in self.net.children():\n",
    "            if hasattr(module, 'compute_kl'):\n",
    "                kl = kl + module.compute_kl()\n",
    "        \n",
    "        gaussian_likelihood = self.heteroskedastic_gaussian_loglikelihood if self.use_het \\\n",
    "                              else self.homoskedastic_gaussian_loglikelihood\n",
    "        \n",
    "        log_likelihood = gaussian_likelihood(pred_mean, pred_var, target)\n",
    "        batched_likelihood = torch.mean(log_likelihood)\n",
    "        \n",
    "        loss = kl - batched_likelihood\n",
    "        return loss, batched_likelihood.detach(), kl"
   ]
  },
  {
   "cell_type": "code",
   "execution_count": 109,
   "metadata": {},
   "outputs": [],
   "source": [
    "reg = LinearGaussian(1, 1, certain=True)"
   ]
  },
  {
   "cell_type": "code",
   "execution_count": 110,
   "metadata": {},
   "outputs": [],
   "source": [
    "loss = RegressionLoss(reg, use_heteroskedastic=False, homo_log_var_scale=0)"
   ]
  },
  {
   "cell_type": "code",
   "execution_count": 111,
   "metadata": {},
   "outputs": [
    {
     "data": {
      "text/plain": [
       "tensor(0.1943, grad_fn=<AddBackward0>)"
      ]
     },
     "execution_count": 111,
     "metadata": {},
     "output_type": "execute_result"
    }
   ],
   "source": [
    "reg.compute_kl()"
   ]
  },
  {
   "cell_type": "code",
   "execution_count": 112,
   "metadata": {},
   "outputs": [
    {
     "data": {
      "text/plain": [
       "torch.Size([500, 1])"
      ]
     },
     "execution_count": 112,
     "metadata": {},
     "output_type": "execute_result"
    }
   ],
   "source": [
    "x_train.shape"
   ]
  },
  {
   "cell_type": "code",
   "execution_count": 113,
   "metadata": {},
   "outputs": [],
   "source": [
    "y_pred = reg(x_train)"
   ]
  },
  {
   "cell_type": "code",
   "execution_count": 114,
   "metadata": {},
   "outputs": [],
   "source": [
    "elbo, batched_likelihood, kl = loss(y_pred, y_train)"
   ]
  },
  {
   "cell_type": "code",
   "execution_count": 118,
   "metadata": {},
   "outputs": [],
   "source": [
    "elbo.backward()"
   ]
  },
  {
   "cell_type": "code",
   "execution_count": 119,
   "metadata": {},
   "outputs": [
    {
     "data": {
      "text/plain": [
       "Parameter containing:\n",
       "tensor([[0.]], requires_grad=True)"
      ]
     },
     "execution_count": 119,
     "metadata": {},
     "output_type": "execute_result"
    }
   ],
   "source": [
    "reg.A_mean"
   ]
  },
  {
   "cell_type": "code",
   "execution_count": 120,
   "metadata": {
    "scrolled": true
   },
   "outputs": [
    {
     "data": {
      "text/plain": [
       "Parameter containing:\n",
       "tensor([[0.5729]], requires_grad=True)"
      ]
     },
     "execution_count": 120,
     "metadata": {},
     "output_type": "execute_result"
    }
   ],
   "source": [
    "reg.A_var"
   ]
  },
  {
   "cell_type": "code",
   "execution_count": 11,
   "metadata": {},
   "outputs": [],
   "source": [
    "#reg = LinearGaussian(1, 1, certain=True)\n",
    "reg = nn.Sequential(\n",
    "    LinearGaussian(1, 5, certain=True),\n",
    "    LinearGaussian(5, 1)\n",
    ")"
   ]
  },
  {
   "cell_type": "code",
   "execution_count": 121,
   "metadata": {},
   "outputs": [
    {
     "data": {
      "text/plain": [
       "tensor([[-0.0836]])"
      ]
     },
     "execution_count": 121,
     "metadata": {},
     "output_type": "execute_result"
    }
   ],
   "source": [
    "reg.A_var.grad"
   ]
  },
  {
   "cell_type": "code",
   "execution_count": 12,
   "metadata": {},
   "outputs": [],
   "source": [
    "yy = reg(x_train)"
   ]
  },
  {
   "cell_type": "code",
   "execution_count": 122,
   "metadata": {
    "scrolled": true
   },
   "outputs": [
    {
     "data": {
      "text/plain": [
       "tensor([[0.0456]])"
      ]
     },
     "execution_count": 122,
     "metadata": {},
     "output_type": "execute_result"
    }
   ],
   "source": [
    "reg.A_mean.grad"
   ]
  },
  {
   "cell_type": "code",
   "execution_count": 13,
   "metadata": {},
   "outputs": [],
   "source": [
    "y_mean = yy[0]\n",
    "y_var = yy[1]"
   ]
  },
  {
   "cell_type": "code",
   "execution_count": 123,
   "metadata": {},
   "outputs": [],
   "source": [
    "opt = torch.optim.Adam(reg.parameters())"
   ]
  },
  {
   "cell_type": "code",
   "execution_count": 14,
   "metadata": {},
   "outputs": [],
   "source": [
    "critetion = nn.MSELoss()"
   ]
  },
  {
   "cell_type": "code",
   "execution_count": 124,
   "metadata": {},
   "outputs": [],
   "source": [
    "opt.step()"
   ]
  },
  {
   "cell_type": "code",
   "execution_count": 15,
   "metadata": {},
   "outputs": [
    {
     "data": {
      "text/plain": [
       "(torch.Size([500, 1]), torch.Size([500]))"
      ]
     },
     "execution_count": 15,
     "metadata": {},
     "output_type": "execute_result"
    }
   ],
   "source": [
    "y_mean.shape, y_train.shape"
   ]
  },
  {
   "cell_type": "code",
   "execution_count": 125,
   "metadata": {
    "scrolled": true
   },
   "outputs": [
    {
     "data": {
      "text/plain": [
       "Parameter containing:\n",
       "tensor([[-0.0010]], requires_grad=True)"
      ]
     },
     "execution_count": 125,
     "metadata": {},
     "output_type": "execute_result"
    }
   ],
   "source": [
    "reg.A_mean"
   ]
  },
  {
   "cell_type": "code",
   "execution_count": 16,
   "metadata": {},
   "outputs": [
    {
     "name": "stderr",
     "output_type": "stream",
     "text": [
      "/home/avmarkov/.local/lib/python3.5/site-packages/torch/nn/modules/loss.py:443: UserWarning: Using a target size (torch.Size([500])) that is different to the input size (torch.Size([500, 1])). This will likely lead to incorrect results due to broadcasting. Please ensure they have the same size.\n",
      "  return F.mse_loss(input, target, reduction=self.reduction)\n"
     ]
    }
   ],
   "source": [
    "loss = critetion(y_mean, y_train)"
   ]
  },
  {
   "cell_type": "code",
   "execution_count": 17,
   "metadata": {},
   "outputs": [],
   "source": [
    "loss.backward()"
   ]
  },
  {
   "cell_type": "code",
   "execution_count": 24,
   "metadata": {},
   "outputs": [
    {
     "data": {
      "text/plain": [
       "Sequential(\n",
       "  (0): LinearGaussian()\n",
       "  (1): LinearGaussian()\n",
       ")"
      ]
     },
     "execution_count": 24,
     "metadata": {},
     "output_type": "execute_result"
    }
   ],
   "source": [
    "second_layer"
   ]
  },
  {
   "cell_type": "code",
   "execution_count": 25,
   "metadata": {},
   "outputs": [
    {
     "ename": "AttributeError",
     "evalue": "'generator' object has no attribute 'next'",
     "output_type": "error",
     "traceback": [
      "\u001b[0;31m---------------------------------------------------------------------------\u001b[0m",
      "\u001b[0;31mAttributeError\u001b[0m                            Traceback (most recent call last)",
      "\u001b[0;32m<ipython-input-25-497ef58fbde6>\u001b[0m in \u001b[0;36m<module>\u001b[0;34m\u001b[0m\n\u001b[0;32m----> 1\u001b[0;31m \u001b[0mfirst_layer\u001b[0m \u001b[0;34m=\u001b[0m \u001b[0mreg\u001b[0m\u001b[0;34m.\u001b[0m\u001b[0mmodules\u001b[0m\u001b[0;34m(\u001b[0m\u001b[0;34m)\u001b[0m\u001b[0;34m.\u001b[0m\u001b[0mnext\u001b[0m\u001b[0;34m(\u001b[0m\u001b[0;34m)\u001b[0m\u001b[0;34m\u001b[0m\u001b[0m\n\u001b[0m\u001b[1;32m      2\u001b[0m \u001b[0msecond_layer\u001b[0m \u001b[0;34m=\u001b[0m \u001b[0mnext\u001b[0m\u001b[0;34m(\u001b[0m\u001b[0mreg\u001b[0m\u001b[0;34m.\u001b[0m\u001b[0mmodules\u001b[0m\u001b[0;34m(\u001b[0m\u001b[0;34m)\u001b[0m\u001b[0;34m)\u001b[0m\u001b[0;34m\u001b[0m\u001b[0m\n",
      "\u001b[0;31mAttributeError\u001b[0m: 'generator' object has no attribute 'next'"
     ]
    }
   ],
   "source": [
    "first_layer = reg.modules().next()\n",
    "second_layer = next(reg.modules())"
   ]
  },
  {
   "cell_type": "code",
   "execution_count": 22,
   "metadata": {
    "scrolled": true
   },
   "outputs": [
    {
     "ename": "AttributeError",
     "evalue": "'Sequential' object has no attribute 'A_var'",
     "output_type": "error",
     "traceback": [
      "\u001b[0;31m---------------------------------------------------------------------------\u001b[0m",
      "\u001b[0;31mAttributeError\u001b[0m                            Traceback (most recent call last)",
      "\u001b[0;32m<ipython-input-22-44a4d3062d6c>\u001b[0m in \u001b[0;36m<module>\u001b[0;34m\u001b[0m\n\u001b[0;32m----> 1\u001b[0;31m \u001b[0mfirst_layer\u001b[0m\u001b[0;34m.\u001b[0m\u001b[0mA_var\u001b[0m\u001b[0;34m,\u001b[0m \u001b[0mfirst_layer\u001b[0m\u001b[0;34m.\u001b[0m\u001b[0mA_var\u001b[0m\u001b[0;34m.\u001b[0m\u001b[0mgrad\u001b[0m\u001b[0;34m\u001b[0m\u001b[0m\n\u001b[0m",
      "\u001b[0;32m~/.local/lib/python3.5/site-packages/torch/nn/modules/module.py\u001b[0m in \u001b[0;36m__getattr__\u001b[0;34m(self, name)\u001b[0m\n\u001b[1;32m    537\u001b[0m                 \u001b[0;32mreturn\u001b[0m \u001b[0mmodules\u001b[0m\u001b[0;34m[\u001b[0m\u001b[0mname\u001b[0m\u001b[0;34m]\u001b[0m\u001b[0;34m\u001b[0m\u001b[0m\n\u001b[1;32m    538\u001b[0m         raise AttributeError(\"'{}' object has no attribute '{}'\".format(\n\u001b[0;32m--> 539\u001b[0;31m             type(self).__name__, name))\n\u001b[0m\u001b[1;32m    540\u001b[0m \u001b[0;34m\u001b[0m\u001b[0m\n\u001b[1;32m    541\u001b[0m     \u001b[0;32mdef\u001b[0m \u001b[0m__setattr__\u001b[0m\u001b[0;34m(\u001b[0m\u001b[0mself\u001b[0m\u001b[0;34m,\u001b[0m \u001b[0mname\u001b[0m\u001b[0;34m,\u001b[0m \u001b[0mvalue\u001b[0m\u001b[0;34m)\u001b[0m\u001b[0;34m:\u001b[0m\u001b[0;34m\u001b[0m\u001b[0m\n",
      "\u001b[0;31mAttributeError\u001b[0m: 'Sequential' object has no attribute 'A_var'"
     ]
    }
   ],
   "source": [
    "first_layer.A_var, first_layer.A_var.grad"
   ]
  },
  {
   "cell_type": "code",
   "execution_count": null,
   "metadata": {},
   "outputs": [],
   "source": [
    "second_layer.A_var, second_layer.A_var.grad"
   ]
  },
  {
   "cell_type": "code",
   "execution_count": 84,
   "metadata": {},
   "outputs": [],
   "source": [
    "opt = torch.optim.Adam(reg.parameters())"
   ]
  },
  {
   "cell_type": "code",
   "execution_count": null,
   "metadata": {},
   "outputs": [],
   "source": []
  },
  {
   "cell_type": "code",
   "execution_count": null,
   "metadata": {},
   "outputs": [],
   "source": []
  },
  {
   "cell_type": "code",
   "execution_count": null,
   "metadata": {},
   "outputs": [],
   "source": []
  },
  {
   "cell_type": "markdown",
   "metadata": {},
   "source": []
  },
  {
   "cell_type": "markdown",
   "metadata": {},
   "source": []
  },
  {
   "cell_type": "code",
   "execution_count": 263,
   "metadata": {},
   "outputs": [
    {
     "data": {
      "image/png": "[encoded data removed]",
      "text/plain": [
       "<Figure size 432x288 with 1 Axes>"
      ]
     },
     "metadata": {
      "needs_background": "light"
     },
     "output_type": "display_data"
    },
    {
     "name": "stdout",
     "output_type": "stream",
     "text": [
      "epoch: 1001, train loss : 0.225360\n",
      "epoch: 1101, train loss : 0.225359\n",
      "epoch: 1201, train loss : 0.225359\n",
      "epoch: 1301, train loss : 0.225359\n",
      "epoch: 1401, train loss : 0.225359\n"
     ]
    },
    {
     "ename": "KeyboardInterrupt",
     "evalue": "",
     "output_type": "error",
     "traceback": [
      "\u001b[0;31m---------------------------------------------------------------------------\u001b[0m",
      "\u001b[0;31mKeyboardInterrupt\u001b[0m                         Traceback (most recent call last)",
      "\u001b[0;32m<ipython-input-263-f517ba434455>\u001b[0m in \u001b[0;36m<module>\u001b[0;34m\u001b[0m\n\u001b[1;32m      6\u001b[0m \u001b[0;34m\u001b[0m\u001b[0m\n\u001b[1;32m      7\u001b[0m     \u001b[0moptim\u001b[0m\u001b[0;34m.\u001b[0m\u001b[0mzero_grad\u001b[0m\u001b[0;34m(\u001b[0m\u001b[0;34m)\u001b[0m\u001b[0;34m\u001b[0m\u001b[0m\n\u001b[0;32m----> 8\u001b[0;31m     \u001b[0mloss\u001b[0m\u001b[0;34m.\u001b[0m\u001b[0mbackward\u001b[0m\u001b[0;34m(\u001b[0m\u001b[0;34m)\u001b[0m\u001b[0;34m\u001b[0m\u001b[0m\n\u001b[0m\u001b[1;32m      9\u001b[0m     \u001b[0moptim\u001b[0m\u001b[0;34m.\u001b[0m\u001b[0mstep\u001b[0m\u001b[0;34m(\u001b[0m\u001b[0;34m)\u001b[0m\u001b[0;34m\u001b[0m\u001b[0m\n\u001b[1;32m     10\u001b[0m \u001b[0;34m\u001b[0m\u001b[0m\n",
      "\u001b[0;32m~/.local/lib/python3.5/site-packages/torch/tensor.py\u001b[0m in \u001b[0;36mbackward\u001b[0;34m(self, gradient, retain_graph, create_graph)\u001b[0m\n\u001b[1;32m    105\u001b[0m                 \u001b[0mproducts\u001b[0m\u001b[0;34m.\u001b[0m \u001b[0mDefaults\u001b[0m \u001b[0mto\u001b[0m\u001b[0;31m \u001b[0m\u001b[0;31m`\u001b[0m\u001b[0;31m`\u001b[0m\u001b[0;32mFalse\u001b[0m\u001b[0;31m`\u001b[0m\u001b[0;31m`\u001b[0m\u001b[0;34m.\u001b[0m\u001b[0;34m\u001b[0m\u001b[0m\n\u001b[1;32m    106\u001b[0m         \"\"\"\n\u001b[0;32m--> 107\u001b[0;31m         \u001b[0mtorch\u001b[0m\u001b[0;34m.\u001b[0m\u001b[0mautograd\u001b[0m\u001b[0;34m.\u001b[0m\u001b[0mbackward\u001b[0m\u001b[0;34m(\u001b[0m\u001b[0mself\u001b[0m\u001b[0;34m,\u001b[0m \u001b[0mgradient\u001b[0m\u001b[0;34m,\u001b[0m \u001b[0mretain_graph\u001b[0m\u001b[0;34m,\u001b[0m \u001b[0mcreate_graph\u001b[0m\u001b[0;34m)\u001b[0m\u001b[0;34m\u001b[0m\u001b[0m\n\u001b[0m\u001b[1;32m    108\u001b[0m \u001b[0;34m\u001b[0m\u001b[0m\n\u001b[1;32m    109\u001b[0m     \u001b[0;32mdef\u001b[0m \u001b[0mregister_hook\u001b[0m\u001b[0;34m(\u001b[0m\u001b[0mself\u001b[0m\u001b[0;34m,\u001b[0m \u001b[0mhook\u001b[0m\u001b[0;34m)\u001b[0m\u001b[0;34m:\u001b[0m\u001b[0;34m\u001b[0m\u001b[0m\n",
      "\u001b[0;32m~/.local/lib/python3.5/site-packages/torch/autograd/__init__.py\u001b[0m in \u001b[0;36mbackward\u001b[0;34m(tensors, grad_tensors, retain_graph, create_graph, grad_variables)\u001b[0m\n\u001b[1;32m     91\u001b[0m     Variable._execution_engine.run_backward(\n\u001b[1;32m     92\u001b[0m         \u001b[0mtensors\u001b[0m\u001b[0;34m,\u001b[0m \u001b[0mgrad_tensors\u001b[0m\u001b[0;34m,\u001b[0m \u001b[0mretain_graph\u001b[0m\u001b[0;34m,\u001b[0m \u001b[0mcreate_graph\u001b[0m\u001b[0;34m,\u001b[0m\u001b[0;34m\u001b[0m\u001b[0m\n\u001b[0;32m---> 93\u001b[0;31m         allow_unreachable=True)  # allow_unreachable flag\n\u001b[0m\u001b[1;32m     94\u001b[0m \u001b[0;34m\u001b[0m\u001b[0m\n\u001b[1;32m     95\u001b[0m \u001b[0;34m\u001b[0m\u001b[0m\n",
      "\u001b[0;31mKeyboardInterrupt\u001b[0m: "
     ]
    }
   ],
   "source": [
    "epochs = 20000\n",
    "for epoch in range(epochs):\n",
    "    model.train()\n",
    "    y_ans = model(x_train)\n",
    "    loss = mse(y_ans, y_train)\n",
    "    \n",
    "    optim.zero_grad()\n",
    "    loss.backward()\n",
    "    optim.step()\n",
    "    \n",
    "    if epoch % 100 == 0:\n",
    "        if epoch % 1000 == 0:\n",
    "            clear_output()            \n",
    "            model.eval()\n",
    "            \n",
    "            x = toy_data[1][0]\n",
    "            y_true = toy_data[1][1]\n",
    "            y_pred = model(torch.FloatTensor(x))\n",
    "            \n",
    "            plt.figure()\n",
    "            toy_results_plot([[x, y_pred.detach().numpy()]], {'mean':base_model, 'std':noise_model})\n",
    "            \n",
    "        print(\"epoch: {}, train loss : {:.6f}\".format(epoch + 1, loss.item()))"
   ]
  },
  {
   "cell_type": "code",
   "execution_count": null,
   "metadata": {},
   "outputs": [],
   "source": [
    "x = toy_data[1][0]\n",
    "y_true = toy_data[1][1]\n",
    "\n",
    "y_pred = model(torch.FloatTensor(x))"
   ]
  },
  {
   "cell_type": "code",
   "execution_count": 255,
   "metadata": {},
   "outputs": [
    {
     "data": {
      "image/png": "[encoded data removed]",
      "text/plain": [
       "<Figure size 432x288 with 1 Axes>"
      ]
     },
     "metadata": {
      "needs_background": "light"
     },
     "output_type": "display_data"
    }
   ],
   "source": [
    "toy_results_plot([[x, y_pred.detach().numpy()]])"
   ]
  },
  {
   "cell_type": "code",
   "execution_count": 264,
   "metadata": {},
   "outputs": [],
   "source": [
    "from sklearn.linear_model import LinearRegression"
   ]
  },
  {
   "cell_type": "code",
   "execution_count": 265,
   "metadata": {},
   "outputs": [
    {
     "data": {
      "text/plain": [
       "LinearRegression(copy_X=True, fit_intercept=True, n_jobs=None,\n",
       "         normalize=False)"
      ]
     },
     "execution_count": 265,
     "metadata": {},
     "output_type": "execute_result"
    }
   ],
   "source": [
    "reg = LinearRegression()\n",
    "reg.fit(x, y_true)"
   ]
  },
  {
   "cell_type": "code",
   "execution_count": null,
   "metadata": {},
   "outputs": [],
   "source": []
  },
  {
   "cell_type": "code",
   "execution_count": 379,
   "metadata": {
    "scrolled": false
   },
   "outputs": [
    {
     "data": {
      "text/plain": [
       "(torch.Size([500, 1]), torch.Size([500, 1, 1]))"
      ]
     },
     "execution_count": 379,
     "metadata": {},
     "output_type": "execute_result"
    }
   ],
   "source": [
    "yy[0].shape, yy[1].shape"
   ]
  }
 ],
 "metadata": {
  "kernelspec": {
   "display_name": "Python 3",
   "language": "python",
   "name": "python3"
  },
  "language_info": {
   "codemirror_mode": {
    "name": "ipython",
    "version": 3
   },
   "file_extension": ".py",
   "mimetype": "text/x-python",
   "name": "python",
   "nbconvert_exporter": "python",
   "pygments_lexer": "ipython3",
   "version": "3.5.2"
  }
 },
 "nbformat": 4,
 "nbformat_minor": 2
}
